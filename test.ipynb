{
  "nbformat": 4,
  "nbformat_minor": 0,
  "metadata": {
    "colab": {
      "name": "test.ipynb",
      "provenance": [],
      "collapsed_sections": [],
      "mount_file_id": "1CvqK-AwdV6AHO2FjgrrHieLqbwNKxugs",
      "authorship_tag": "ABX9TyMoJhvuGODBRy7e85uYJVJD",
      "include_colab_link": true
    },
    "kernelspec": {
      "name": "python3",
      "display_name": "Python 3"
    },
    "language_info": {
      "name": "python"
    },
    "accelerator": "GPU",
    "widgets": {
      "application/vnd.jupyter.widget-state+json": {
        "863a82a35b184b66ac064b48199c0135": {
          "model_module": "@jupyter-widgets/controls",
          "model_name": "HBoxModel",
          "model_module_version": "1.5.0",
          "state": {
            "_dom_classes": [],
            "_model_module": "@jupyter-widgets/controls",
            "_model_module_version": "1.5.0",
            "_model_name": "HBoxModel",
            "_view_count": null,
            "_view_module": "@jupyter-widgets/controls",
            "_view_module_version": "1.5.0",
            "_view_name": "HBoxView",
            "box_style": "",
            "children": [
              "IPY_MODEL_09a5deeaba624d8683a35420cd9a5625",
              "IPY_MODEL_f484030cc4e94b3782c5eadaecc7ca71",
              "IPY_MODEL_1fd0eac875c44a44bbd2ba4a2af81ed8"
            ],
            "layout": "IPY_MODEL_9830fa8f156a4d12ab1ed77db5dade2b"
          }
        },
        "09a5deeaba624d8683a35420cd9a5625": {
          "model_module": "@jupyter-widgets/controls",
          "model_name": "HTMLModel",
          "model_module_version": "1.5.0",
          "state": {
            "_dom_classes": [],
            "_model_module": "@jupyter-widgets/controls",
            "_model_module_version": "1.5.0",
            "_model_name": "HTMLModel",
            "_view_count": null,
            "_view_module": "@jupyter-widgets/controls",
            "_view_module_version": "1.5.0",
            "_view_name": "HTMLView",
            "description": "",
            "description_tooltip": null,
            "layout": "IPY_MODEL_f1f20941958f465ea148ee631052394e",
            "placeholder": "​",
            "style": "IPY_MODEL_1ad996f33bda45d7a9918c5264d42ec0",
            "value": "100%"
          }
        },
        "f484030cc4e94b3782c5eadaecc7ca71": {
          "model_module": "@jupyter-widgets/controls",
          "model_name": "FloatProgressModel",
          "model_module_version": "1.5.0",
          "state": {
            "_dom_classes": [],
            "_model_module": "@jupyter-widgets/controls",
            "_model_module_version": "1.5.0",
            "_model_name": "FloatProgressModel",
            "_view_count": null,
            "_view_module": "@jupyter-widgets/controls",
            "_view_module_version": "1.5.0",
            "_view_name": "ProgressView",
            "bar_style": "success",
            "description": "",
            "description_tooltip": null,
            "layout": "IPY_MODEL_23782b9e4d1240d6ac8ea71290f44cc8",
            "max": 7049,
            "min": 0,
            "orientation": "horizontal",
            "style": "IPY_MODEL_cff19a765c024376a6113f0599f1ca7c",
            "value": 7049
          }
        },
        "1fd0eac875c44a44bbd2ba4a2af81ed8": {
          "model_module": "@jupyter-widgets/controls",
          "model_name": "HTMLModel",
          "model_module_version": "1.5.0",
          "state": {
            "_dom_classes": [],
            "_model_module": "@jupyter-widgets/controls",
            "_model_module_version": "1.5.0",
            "_model_name": "HTMLModel",
            "_view_count": null,
            "_view_module": "@jupyter-widgets/controls",
            "_view_module_version": "1.5.0",
            "_view_name": "HTMLView",
            "description": "",
            "description_tooltip": null,
            "layout": "IPY_MODEL_c49b3ba060e24e5984b4afa8305b8d20",
            "placeholder": "​",
            "style": "IPY_MODEL_1a3be3224d774ca0b2d944c55296f143",
            "value": " 7049/7049 [00:16&lt;00:00, 344.20it/s]"
          }
        },
        "9830fa8f156a4d12ab1ed77db5dade2b": {
          "model_module": "@jupyter-widgets/base",
          "model_name": "LayoutModel",
          "model_module_version": "1.2.0",
          "state": {
            "_model_module": "@jupyter-widgets/base",
            "_model_module_version": "1.2.0",
            "_model_name": "LayoutModel",
            "_view_count": null,
            "_view_module": "@jupyter-widgets/base",
            "_view_module_version": "1.2.0",
            "_view_name": "LayoutView",
            "align_content": null,
            "align_items": null,
            "align_self": null,
            "border": null,
            "bottom": null,
            "display": null,
            "flex": null,
            "flex_flow": null,
            "grid_area": null,
            "grid_auto_columns": null,
            "grid_auto_flow": null,
            "grid_auto_rows": null,
            "grid_column": null,
            "grid_gap": null,
            "grid_row": null,
            "grid_template_areas": null,
            "grid_template_columns": null,
            "grid_template_rows": null,
            "height": null,
            "justify_content": null,
            "justify_items": null,
            "left": null,
            "margin": null,
            "max_height": null,
            "max_width": null,
            "min_height": null,
            "min_width": null,
            "object_fit": null,
            "object_position": null,
            "order": null,
            "overflow": null,
            "overflow_x": null,
            "overflow_y": null,
            "padding": null,
            "right": null,
            "top": null,
            "visibility": null,
            "width": null
          }
        },
        "f1f20941958f465ea148ee631052394e": {
          "model_module": "@jupyter-widgets/base",
          "model_name": "LayoutModel",
          "model_module_version": "1.2.0",
          "state": {
            "_model_module": "@jupyter-widgets/base",
            "_model_module_version": "1.2.0",
            "_model_name": "LayoutModel",
            "_view_count": null,
            "_view_module": "@jupyter-widgets/base",
            "_view_module_version": "1.2.0",
            "_view_name": "LayoutView",
            "align_content": null,
            "align_items": null,
            "align_self": null,
            "border": null,
            "bottom": null,
            "display": null,
            "flex": null,
            "flex_flow": null,
            "grid_area": null,
            "grid_auto_columns": null,
            "grid_auto_flow": null,
            "grid_auto_rows": null,
            "grid_column": null,
            "grid_gap": null,
            "grid_row": null,
            "grid_template_areas": null,
            "grid_template_columns": null,
            "grid_template_rows": null,
            "height": null,
            "justify_content": null,
            "justify_items": null,
            "left": null,
            "margin": null,
            "max_height": null,
            "max_width": null,
            "min_height": null,
            "min_width": null,
            "object_fit": null,
            "object_position": null,
            "order": null,
            "overflow": null,
            "overflow_x": null,
            "overflow_y": null,
            "padding": null,
            "right": null,
            "top": null,
            "visibility": null,
            "width": null
          }
        },
        "1ad996f33bda45d7a9918c5264d42ec0": {
          "model_module": "@jupyter-widgets/controls",
          "model_name": "DescriptionStyleModel",
          "model_module_version": "1.5.0",
          "state": {
            "_model_module": "@jupyter-widgets/controls",
            "_model_module_version": "1.5.0",
            "_model_name": "DescriptionStyleModel",
            "_view_count": null,
            "_view_module": "@jupyter-widgets/base",
            "_view_module_version": "1.2.0",
            "_view_name": "StyleView",
            "description_width": ""
          }
        },
        "23782b9e4d1240d6ac8ea71290f44cc8": {
          "model_module": "@jupyter-widgets/base",
          "model_name": "LayoutModel",
          "model_module_version": "1.2.0",
          "state": {
            "_model_module": "@jupyter-widgets/base",
            "_model_module_version": "1.2.0",
            "_model_name": "LayoutModel",
            "_view_count": null,
            "_view_module": "@jupyter-widgets/base",
            "_view_module_version": "1.2.0",
            "_view_name": "LayoutView",
            "align_content": null,
            "align_items": null,
            "align_self": null,
            "border": null,
            "bottom": null,
            "display": null,
            "flex": null,
            "flex_flow": null,
            "grid_area": null,
            "grid_auto_columns": null,
            "grid_auto_flow": null,
            "grid_auto_rows": null,
            "grid_column": null,
            "grid_gap": null,
            "grid_row": null,
            "grid_template_areas": null,
            "grid_template_columns": null,
            "grid_template_rows": null,
            "height": null,
            "justify_content": null,
            "justify_items": null,
            "left": null,
            "margin": null,
            "max_height": null,
            "max_width": null,
            "min_height": null,
            "min_width": null,
            "object_fit": null,
            "object_position": null,
            "order": null,
            "overflow": null,
            "overflow_x": null,
            "overflow_y": null,
            "padding": null,
            "right": null,
            "top": null,
            "visibility": null,
            "width": null
          }
        },
        "cff19a765c024376a6113f0599f1ca7c": {
          "model_module": "@jupyter-widgets/controls",
          "model_name": "ProgressStyleModel",
          "model_module_version": "1.5.0",
          "state": {
            "_model_module": "@jupyter-widgets/controls",
            "_model_module_version": "1.5.0",
            "_model_name": "ProgressStyleModel",
            "_view_count": null,
            "_view_module": "@jupyter-widgets/base",
            "_view_module_version": "1.2.0",
            "_view_name": "StyleView",
            "bar_color": null,
            "description_width": ""
          }
        },
        "c49b3ba060e24e5984b4afa8305b8d20": {
          "model_module": "@jupyter-widgets/base",
          "model_name": "LayoutModel",
          "model_module_version": "1.2.0",
          "state": {
            "_model_module": "@jupyter-widgets/base",
            "_model_module_version": "1.2.0",
            "_model_name": "LayoutModel",
            "_view_count": null,
            "_view_module": "@jupyter-widgets/base",
            "_view_module_version": "1.2.0",
            "_view_name": "LayoutView",
            "align_content": null,
            "align_items": null,
            "align_self": null,
            "border": null,
            "bottom": null,
            "display": null,
            "flex": null,
            "flex_flow": null,
            "grid_area": null,
            "grid_auto_columns": null,
            "grid_auto_flow": null,
            "grid_auto_rows": null,
            "grid_column": null,
            "grid_gap": null,
            "grid_row": null,
            "grid_template_areas": null,
            "grid_template_columns": null,
            "grid_template_rows": null,
            "height": null,
            "justify_content": null,
            "justify_items": null,
            "left": null,
            "margin": null,
            "max_height": null,
            "max_width": null,
            "min_height": null,
            "min_width": null,
            "object_fit": null,
            "object_position": null,
            "order": null,
            "overflow": null,
            "overflow_x": null,
            "overflow_y": null,
            "padding": null,
            "right": null,
            "top": null,
            "visibility": null,
            "width": null
          }
        },
        "1a3be3224d774ca0b2d944c55296f143": {
          "model_module": "@jupyter-widgets/controls",
          "model_name": "DescriptionStyleModel",
          "model_module_version": "1.5.0",
          "state": {
            "_model_module": "@jupyter-widgets/controls",
            "_model_module_version": "1.5.0",
            "_model_name": "DescriptionStyleModel",
            "_view_count": null,
            "_view_module": "@jupyter-widgets/base",
            "_view_module_version": "1.2.0",
            "_view_name": "StyleView",
            "description_width": ""
          }
        },
        "77ca1e47a77a4dfca5330b9d46521dc2": {
          "model_module": "@jupyter-widgets/controls",
          "model_name": "HBoxModel",
          "model_module_version": "1.5.0",
          "state": {
            "_dom_classes": [],
            "_model_module": "@jupyter-widgets/controls",
            "_model_module_version": "1.5.0",
            "_model_name": "HBoxModel",
            "_view_count": null,
            "_view_module": "@jupyter-widgets/controls",
            "_view_module_version": "1.5.0",
            "_view_name": "HBoxView",
            "box_style": "",
            "children": [
              "IPY_MODEL_206f26bdf40c40819cd3236a5351f96d",
              "IPY_MODEL_f381a573f78c41288cf9b571f9a3ef5b",
              "IPY_MODEL_ec60e6c62d9049469699b152b0db6481"
            ],
            "layout": "IPY_MODEL_1eb375f9d9804b3a94e235223000cbfc"
          }
        },
        "206f26bdf40c40819cd3236a5351f96d": {
          "model_module": "@jupyter-widgets/controls",
          "model_name": "HTMLModel",
          "model_module_version": "1.5.0",
          "state": {
            "_dom_classes": [],
            "_model_module": "@jupyter-widgets/controls",
            "_model_module_version": "1.5.0",
            "_model_name": "HTMLModel",
            "_view_count": null,
            "_view_module": "@jupyter-widgets/controls",
            "_view_module_version": "1.5.0",
            "_view_name": "HTMLView",
            "description": "",
            "description_tooltip": null,
            "layout": "IPY_MODEL_5624e8f670a6430ca160f0c79abce487",
            "placeholder": "​",
            "style": "IPY_MODEL_0aae70b47e254fca8d8e9bdfedcabc72",
            "value": "100%"
          }
        },
        "f381a573f78c41288cf9b571f9a3ef5b": {
          "model_module": "@jupyter-widgets/controls",
          "model_name": "FloatProgressModel",
          "model_module_version": "1.5.0",
          "state": {
            "_dom_classes": [],
            "_model_module": "@jupyter-widgets/controls",
            "_model_module_version": "1.5.0",
            "_model_name": "FloatProgressModel",
            "_view_count": null,
            "_view_module": "@jupyter-widgets/controls",
            "_view_module_version": "1.5.0",
            "_view_name": "ProgressView",
            "bar_style": "success",
            "description": "",
            "description_tooltip": null,
            "layout": "IPY_MODEL_41900de0f2d54c19bf2954f8e6b00dfd",
            "max": 7049,
            "min": 0,
            "orientation": "horizontal",
            "style": "IPY_MODEL_e0bac5d0959e4f3bab892632c57b4f7f",
            "value": 7049
          }
        },
        "ec60e6c62d9049469699b152b0db6481": {
          "model_module": "@jupyter-widgets/controls",
          "model_name": "HTMLModel",
          "model_module_version": "1.5.0",
          "state": {
            "_dom_classes": [],
            "_model_module": "@jupyter-widgets/controls",
            "_model_module_version": "1.5.0",
            "_model_name": "HTMLModel",
            "_view_count": null,
            "_view_module": "@jupyter-widgets/controls",
            "_view_module_version": "1.5.0",
            "_view_name": "HTMLView",
            "description": "",
            "description_tooltip": null,
            "layout": "IPY_MODEL_1c3c88994b5b4c3db3c3135658b6e5a0",
            "placeholder": "​",
            "style": "IPY_MODEL_7fdfd1fa8e674a5eb9ef8fe4df10b390",
            "value": " 7049/7049 [00:01&lt;00:00, 6169.18it/s]"
          }
        },
        "1eb375f9d9804b3a94e235223000cbfc": {
          "model_module": "@jupyter-widgets/base",
          "model_name": "LayoutModel",
          "model_module_version": "1.2.0",
          "state": {
            "_model_module": "@jupyter-widgets/base",
            "_model_module_version": "1.2.0",
            "_model_name": "LayoutModel",
            "_view_count": null,
            "_view_module": "@jupyter-widgets/base",
            "_view_module_version": "1.2.0",
            "_view_name": "LayoutView",
            "align_content": null,
            "align_items": null,
            "align_self": null,
            "border": null,
            "bottom": null,
            "display": null,
            "flex": null,
            "flex_flow": null,
            "grid_area": null,
            "grid_auto_columns": null,
            "grid_auto_flow": null,
            "grid_auto_rows": null,
            "grid_column": null,
            "grid_gap": null,
            "grid_row": null,
            "grid_template_areas": null,
            "grid_template_columns": null,
            "grid_template_rows": null,
            "height": null,
            "justify_content": null,
            "justify_items": null,
            "left": null,
            "margin": null,
            "max_height": null,
            "max_width": null,
            "min_height": null,
            "min_width": null,
            "object_fit": null,
            "object_position": null,
            "order": null,
            "overflow": null,
            "overflow_x": null,
            "overflow_y": null,
            "padding": null,
            "right": null,
            "top": null,
            "visibility": null,
            "width": null
          }
        },
        "5624e8f670a6430ca160f0c79abce487": {
          "model_module": "@jupyter-widgets/base",
          "model_name": "LayoutModel",
          "model_module_version": "1.2.0",
          "state": {
            "_model_module": "@jupyter-widgets/base",
            "_model_module_version": "1.2.0",
            "_model_name": "LayoutModel",
            "_view_count": null,
            "_view_module": "@jupyter-widgets/base",
            "_view_module_version": "1.2.0",
            "_view_name": "LayoutView",
            "align_content": null,
            "align_items": null,
            "align_self": null,
            "border": null,
            "bottom": null,
            "display": null,
            "flex": null,
            "flex_flow": null,
            "grid_area": null,
            "grid_auto_columns": null,
            "grid_auto_flow": null,
            "grid_auto_rows": null,
            "grid_column": null,
            "grid_gap": null,
            "grid_row": null,
            "grid_template_areas": null,
            "grid_template_columns": null,
            "grid_template_rows": null,
            "height": null,
            "justify_content": null,
            "justify_items": null,
            "left": null,
            "margin": null,
            "max_height": null,
            "max_width": null,
            "min_height": null,
            "min_width": null,
            "object_fit": null,
            "object_position": null,
            "order": null,
            "overflow": null,
            "overflow_x": null,
            "overflow_y": null,
            "padding": null,
            "right": null,
            "top": null,
            "visibility": null,
            "width": null
          }
        },
        "0aae70b47e254fca8d8e9bdfedcabc72": {
          "model_module": "@jupyter-widgets/controls",
          "model_name": "DescriptionStyleModel",
          "model_module_version": "1.5.0",
          "state": {
            "_model_module": "@jupyter-widgets/controls",
            "_model_module_version": "1.5.0",
            "_model_name": "DescriptionStyleModel",
            "_view_count": null,
            "_view_module": "@jupyter-widgets/base",
            "_view_module_version": "1.2.0",
            "_view_name": "StyleView",
            "description_width": ""
          }
        },
        "41900de0f2d54c19bf2954f8e6b00dfd": {
          "model_module": "@jupyter-widgets/base",
          "model_name": "LayoutModel",
          "model_module_version": "1.2.0",
          "state": {
            "_model_module": "@jupyter-widgets/base",
            "_model_module_version": "1.2.0",
            "_model_name": "LayoutModel",
            "_view_count": null,
            "_view_module": "@jupyter-widgets/base",
            "_view_module_version": "1.2.0",
            "_view_name": "LayoutView",
            "align_content": null,
            "align_items": null,
            "align_self": null,
            "border": null,
            "bottom": null,
            "display": null,
            "flex": null,
            "flex_flow": null,
            "grid_area": null,
            "grid_auto_columns": null,
            "grid_auto_flow": null,
            "grid_auto_rows": null,
            "grid_column": null,
            "grid_gap": null,
            "grid_row": null,
            "grid_template_areas": null,
            "grid_template_columns": null,
            "grid_template_rows": null,
            "height": null,
            "justify_content": null,
            "justify_items": null,
            "left": null,
            "margin": null,
            "max_height": null,
            "max_width": null,
            "min_height": null,
            "min_width": null,
            "object_fit": null,
            "object_position": null,
            "order": null,
            "overflow": null,
            "overflow_x": null,
            "overflow_y": null,
            "padding": null,
            "right": null,
            "top": null,
            "visibility": null,
            "width": null
          }
        },
        "e0bac5d0959e4f3bab892632c57b4f7f": {
          "model_module": "@jupyter-widgets/controls",
          "model_name": "ProgressStyleModel",
          "model_module_version": "1.5.0",
          "state": {
            "_model_module": "@jupyter-widgets/controls",
            "_model_module_version": "1.5.0",
            "_model_name": "ProgressStyleModel",
            "_view_count": null,
            "_view_module": "@jupyter-widgets/base",
            "_view_module_version": "1.2.0",
            "_view_name": "StyleView",
            "bar_color": null,
            "description_width": ""
          }
        },
        "1c3c88994b5b4c3db3c3135658b6e5a0": {
          "model_module": "@jupyter-widgets/base",
          "model_name": "LayoutModel",
          "model_module_version": "1.2.0",
          "state": {
            "_model_module": "@jupyter-widgets/base",
            "_model_module_version": "1.2.0",
            "_model_name": "LayoutModel",
            "_view_count": null,
            "_view_module": "@jupyter-widgets/base",
            "_view_module_version": "1.2.0",
            "_view_name": "LayoutView",
            "align_content": null,
            "align_items": null,
            "align_self": null,
            "border": null,
            "bottom": null,
            "display": null,
            "flex": null,
            "flex_flow": null,
            "grid_area": null,
            "grid_auto_columns": null,
            "grid_auto_flow": null,
            "grid_auto_rows": null,
            "grid_column": null,
            "grid_gap": null,
            "grid_row": null,
            "grid_template_areas": null,
            "grid_template_columns": null,
            "grid_template_rows": null,
            "height": null,
            "justify_content": null,
            "justify_items": null,
            "left": null,
            "margin": null,
            "max_height": null,
            "max_width": null,
            "min_height": null,
            "min_width": null,
            "object_fit": null,
            "object_position": null,
            "order": null,
            "overflow": null,
            "overflow_x": null,
            "overflow_y": null,
            "padding": null,
            "right": null,
            "top": null,
            "visibility": null,
            "width": null
          }
        },
        "7fdfd1fa8e674a5eb9ef8fe4df10b390": {
          "model_module": "@jupyter-widgets/controls",
          "model_name": "DescriptionStyleModel",
          "model_module_version": "1.5.0",
          "state": {
            "_model_module": "@jupyter-widgets/controls",
            "_model_module_version": "1.5.0",
            "_model_name": "DescriptionStyleModel",
            "_view_count": null,
            "_view_module": "@jupyter-widgets/base",
            "_view_module_version": "1.2.0",
            "_view_name": "StyleView",
            "description_width": ""
          }
        },
        "7c29aeb9826b4d409bab7eba7edf012f": {
          "model_module": "@jupyter-widgets/controls",
          "model_name": "HBoxModel",
          "model_module_version": "1.5.0",
          "state": {
            "_dom_classes": [],
            "_model_module": "@jupyter-widgets/controls",
            "_model_module_version": "1.5.0",
            "_model_name": "HBoxModel",
            "_view_count": null,
            "_view_module": "@jupyter-widgets/controls",
            "_view_module_version": "1.5.0",
            "_view_name": "HBoxView",
            "box_style": "",
            "children": [
              "IPY_MODEL_625d3ed86b234433bfd0f7d1aeeb8200",
              "IPY_MODEL_7295e6d1ac464185b2450feb5b548ff0",
              "IPY_MODEL_633cc7618bc84ccb896b218fa5da5d23"
            ],
            "layout": "IPY_MODEL_f92dae206588439d9a922921fe7e42bd"
          }
        },
        "625d3ed86b234433bfd0f7d1aeeb8200": {
          "model_module": "@jupyter-widgets/controls",
          "model_name": "HTMLModel",
          "model_module_version": "1.5.0",
          "state": {
            "_dom_classes": [],
            "_model_module": "@jupyter-widgets/controls",
            "_model_module_version": "1.5.0",
            "_model_name": "HTMLModel",
            "_view_count": null,
            "_view_module": "@jupyter-widgets/controls",
            "_view_module_version": "1.5.0",
            "_view_name": "HTMLView",
            "description": "",
            "description_tooltip": null,
            "layout": "IPY_MODEL_e5a0cdbf13dd4fc6a9b8402c38be9aea",
            "placeholder": "​",
            "style": "IPY_MODEL_71b65c85e6fe4c43968d6167cc59dba3",
            "value": "100%"
          }
        },
        "7295e6d1ac464185b2450feb5b548ff0": {
          "model_module": "@jupyter-widgets/controls",
          "model_name": "FloatProgressModel",
          "model_module_version": "1.5.0",
          "state": {
            "_dom_classes": [],
            "_model_module": "@jupyter-widgets/controls",
            "_model_module_version": "1.5.0",
            "_model_name": "FloatProgressModel",
            "_view_count": null,
            "_view_module": "@jupyter-widgets/controls",
            "_view_module_version": "1.5.0",
            "_view_name": "ProgressView",
            "bar_style": "success",
            "description": "",
            "description_tooltip": null,
            "layout": "IPY_MODEL_500ccf56a8cf4966a9ca60151ba75e98",
            "max": 7049,
            "min": 0,
            "orientation": "horizontal",
            "style": "IPY_MODEL_7e4f86462981437a9e82b3d488247d1d",
            "value": 7049
          }
        },
        "633cc7618bc84ccb896b218fa5da5d23": {
          "model_module": "@jupyter-widgets/controls",
          "model_name": "HTMLModel",
          "model_module_version": "1.5.0",
          "state": {
            "_dom_classes": [],
            "_model_module": "@jupyter-widgets/controls",
            "_model_module_version": "1.5.0",
            "_model_name": "HTMLModel",
            "_view_count": null,
            "_view_module": "@jupyter-widgets/controls",
            "_view_module_version": "1.5.0",
            "_view_name": "HTMLView",
            "description": "",
            "description_tooltip": null,
            "layout": "IPY_MODEL_cb00276798b9484f9a21996fcab81e7d",
            "placeholder": "​",
            "style": "IPY_MODEL_c2bb2205a86e40629d21217c2a15c58c",
            "value": " 7049/7049 [00:01&lt;00:00, 7126.52it/s]"
          }
        },
        "f92dae206588439d9a922921fe7e42bd": {
          "model_module": "@jupyter-widgets/base",
          "model_name": "LayoutModel",
          "model_module_version": "1.2.0",
          "state": {
            "_model_module": "@jupyter-widgets/base",
            "_model_module_version": "1.2.0",
            "_model_name": "LayoutModel",
            "_view_count": null,
            "_view_module": "@jupyter-widgets/base",
            "_view_module_version": "1.2.0",
            "_view_name": "LayoutView",
            "align_content": null,
            "align_items": null,
            "align_self": null,
            "border": null,
            "bottom": null,
            "display": null,
            "flex": null,
            "flex_flow": null,
            "grid_area": null,
            "grid_auto_columns": null,
            "grid_auto_flow": null,
            "grid_auto_rows": null,
            "grid_column": null,
            "grid_gap": null,
            "grid_row": null,
            "grid_template_areas": null,
            "grid_template_columns": null,
            "grid_template_rows": null,
            "height": null,
            "justify_content": null,
            "justify_items": null,
            "left": null,
            "margin": null,
            "max_height": null,
            "max_width": null,
            "min_height": null,
            "min_width": null,
            "object_fit": null,
            "object_position": null,
            "order": null,
            "overflow": null,
            "overflow_x": null,
            "overflow_y": null,
            "padding": null,
            "right": null,
            "top": null,
            "visibility": null,
            "width": null
          }
        },
        "e5a0cdbf13dd4fc6a9b8402c38be9aea": {
          "model_module": "@jupyter-widgets/base",
          "model_name": "LayoutModel",
          "model_module_version": "1.2.0",
          "state": {
            "_model_module": "@jupyter-widgets/base",
            "_model_module_version": "1.2.0",
            "_model_name": "LayoutModel",
            "_view_count": null,
            "_view_module": "@jupyter-widgets/base",
            "_view_module_version": "1.2.0",
            "_view_name": "LayoutView",
            "align_content": null,
            "align_items": null,
            "align_self": null,
            "border": null,
            "bottom": null,
            "display": null,
            "flex": null,
            "flex_flow": null,
            "grid_area": null,
            "grid_auto_columns": null,
            "grid_auto_flow": null,
            "grid_auto_rows": null,
            "grid_column": null,
            "grid_gap": null,
            "grid_row": null,
            "grid_template_areas": null,
            "grid_template_columns": null,
            "grid_template_rows": null,
            "height": null,
            "justify_content": null,
            "justify_items": null,
            "left": null,
            "margin": null,
            "max_height": null,
            "max_width": null,
            "min_height": null,
            "min_width": null,
            "object_fit": null,
            "object_position": null,
            "order": null,
            "overflow": null,
            "overflow_x": null,
            "overflow_y": null,
            "padding": null,
            "right": null,
            "top": null,
            "visibility": null,
            "width": null
          }
        },
        "71b65c85e6fe4c43968d6167cc59dba3": {
          "model_module": "@jupyter-widgets/controls",
          "model_name": "DescriptionStyleModel",
          "model_module_version": "1.5.0",
          "state": {
            "_model_module": "@jupyter-widgets/controls",
            "_model_module_version": "1.5.0",
            "_model_name": "DescriptionStyleModel",
            "_view_count": null,
            "_view_module": "@jupyter-widgets/base",
            "_view_module_version": "1.2.0",
            "_view_name": "StyleView",
            "description_width": ""
          }
        },
        "500ccf56a8cf4966a9ca60151ba75e98": {
          "model_module": "@jupyter-widgets/base",
          "model_name": "LayoutModel",
          "model_module_version": "1.2.0",
          "state": {
            "_model_module": "@jupyter-widgets/base",
            "_model_module_version": "1.2.0",
            "_model_name": "LayoutModel",
            "_view_count": null,
            "_view_module": "@jupyter-widgets/base",
            "_view_module_version": "1.2.0",
            "_view_name": "LayoutView",
            "align_content": null,
            "align_items": null,
            "align_self": null,
            "border": null,
            "bottom": null,
            "display": null,
            "flex": null,
            "flex_flow": null,
            "grid_area": null,
            "grid_auto_columns": null,
            "grid_auto_flow": null,
            "grid_auto_rows": null,
            "grid_column": null,
            "grid_gap": null,
            "grid_row": null,
            "grid_template_areas": null,
            "grid_template_columns": null,
            "grid_template_rows": null,
            "height": null,
            "justify_content": null,
            "justify_items": null,
            "left": null,
            "margin": null,
            "max_height": null,
            "max_width": null,
            "min_height": null,
            "min_width": null,
            "object_fit": null,
            "object_position": null,
            "order": null,
            "overflow": null,
            "overflow_x": null,
            "overflow_y": null,
            "padding": null,
            "right": null,
            "top": null,
            "visibility": null,
            "width": null
          }
        },
        "7e4f86462981437a9e82b3d488247d1d": {
          "model_module": "@jupyter-widgets/controls",
          "model_name": "ProgressStyleModel",
          "model_module_version": "1.5.0",
          "state": {
            "_model_module": "@jupyter-widgets/controls",
            "_model_module_version": "1.5.0",
            "_model_name": "ProgressStyleModel",
            "_view_count": null,
            "_view_module": "@jupyter-widgets/base",
            "_view_module_version": "1.2.0",
            "_view_name": "StyleView",
            "bar_color": null,
            "description_width": ""
          }
        },
        "cb00276798b9484f9a21996fcab81e7d": {
          "model_module": "@jupyter-widgets/base",
          "model_name": "LayoutModel",
          "model_module_version": "1.2.0",
          "state": {
            "_model_module": "@jupyter-widgets/base",
            "_model_module_version": "1.2.0",
            "_model_name": "LayoutModel",
            "_view_count": null,
            "_view_module": "@jupyter-widgets/base",
            "_view_module_version": "1.2.0",
            "_view_name": "LayoutView",
            "align_content": null,
            "align_items": null,
            "align_self": null,
            "border": null,
            "bottom": null,
            "display": null,
            "flex": null,
            "flex_flow": null,
            "grid_area": null,
            "grid_auto_columns": null,
            "grid_auto_flow": null,
            "grid_auto_rows": null,
            "grid_column": null,
            "grid_gap": null,
            "grid_row": null,
            "grid_template_areas": null,
            "grid_template_columns": null,
            "grid_template_rows": null,
            "height": null,
            "justify_content": null,
            "justify_items": null,
            "left": null,
            "margin": null,
            "max_height": null,
            "max_width": null,
            "min_height": null,
            "min_width": null,
            "object_fit": null,
            "object_position": null,
            "order": null,
            "overflow": null,
            "overflow_x": null,
            "overflow_y": null,
            "padding": null,
            "right": null,
            "top": null,
            "visibility": null,
            "width": null
          }
        },
        "c2bb2205a86e40629d21217c2a15c58c": {
          "model_module": "@jupyter-widgets/controls",
          "model_name": "DescriptionStyleModel",
          "model_module_version": "1.5.0",
          "state": {
            "_model_module": "@jupyter-widgets/controls",
            "_model_module_version": "1.5.0",
            "_model_name": "DescriptionStyleModel",
            "_view_count": null,
            "_view_module": "@jupyter-widgets/base",
            "_view_module_version": "1.2.0",
            "_view_name": "StyleView",
            "description_width": ""
          }
        },
        "ab8f70f1fac14503befc10be27aff8be": {
          "model_module": "@jupyter-widgets/controls",
          "model_name": "HBoxModel",
          "model_module_version": "1.5.0",
          "state": {
            "_dom_classes": [],
            "_model_module": "@jupyter-widgets/controls",
            "_model_module_version": "1.5.0",
            "_model_name": "HBoxModel",
            "_view_count": null,
            "_view_module": "@jupyter-widgets/controls",
            "_view_module_version": "1.5.0",
            "_view_name": "HBoxView",
            "box_style": "",
            "children": [
              "IPY_MODEL_19ba4c2ff9104ff3a710a232777f8f2c",
              "IPY_MODEL_b4d2e4105c89419abb8f71ed4ad0028d",
              "IPY_MODEL_8ee369e43d7c47baab37fd2e633c489e"
            ],
            "layout": "IPY_MODEL_dd97cac5843546ea96896fed3aee9a33"
          }
        },
        "19ba4c2ff9104ff3a710a232777f8f2c": {
          "model_module": "@jupyter-widgets/controls",
          "model_name": "HTMLModel",
          "model_module_version": "1.5.0",
          "state": {
            "_dom_classes": [],
            "_model_module": "@jupyter-widgets/controls",
            "_model_module_version": "1.5.0",
            "_model_name": "HTMLModel",
            "_view_count": null,
            "_view_module": "@jupyter-widgets/controls",
            "_view_module_version": "1.5.0",
            "_view_name": "HTMLView",
            "description": "",
            "description_tooltip": null,
            "layout": "IPY_MODEL_045b8c6733f147b9b1c07f2e3be5240d",
            "placeholder": "​",
            "style": "IPY_MODEL_c29a8fa9b5134c94a055b63f54268dfc",
            "value": "100%"
          }
        },
        "b4d2e4105c89419abb8f71ed4ad0028d": {
          "model_module": "@jupyter-widgets/controls",
          "model_name": "FloatProgressModel",
          "model_module_version": "1.5.0",
          "state": {
            "_dom_classes": [],
            "_model_module": "@jupyter-widgets/controls",
            "_model_module_version": "1.5.0",
            "_model_name": "FloatProgressModel",
            "_view_count": null,
            "_view_module": "@jupyter-widgets/controls",
            "_view_module_version": "1.5.0",
            "_view_name": "ProgressView",
            "bar_style": "success",
            "description": "",
            "description_tooltip": null,
            "layout": "IPY_MODEL_c43ba34c96694397bd006ddaa80d723c",
            "max": 7049,
            "min": 0,
            "orientation": "horizontal",
            "style": "IPY_MODEL_66f6c53c84cd471596c10458c0475457",
            "value": 7049
          }
        },
        "8ee369e43d7c47baab37fd2e633c489e": {
          "model_module": "@jupyter-widgets/controls",
          "model_name": "HTMLModel",
          "model_module_version": "1.5.0",
          "state": {
            "_dom_classes": [],
            "_model_module": "@jupyter-widgets/controls",
            "_model_module_version": "1.5.0",
            "_model_name": "HTMLModel",
            "_view_count": null,
            "_view_module": "@jupyter-widgets/controls",
            "_view_module_version": "1.5.0",
            "_view_name": "HTMLView",
            "description": "",
            "description_tooltip": null,
            "layout": "IPY_MODEL_319c6da2e2604202a7256b628a91d96f",
            "placeholder": "​",
            "style": "IPY_MODEL_c89bde9f80b74579add91998b9a00441",
            "value": " 7049/7049 [00:40&lt;00:00, 97.96it/s]"
          }
        },
        "dd97cac5843546ea96896fed3aee9a33": {
          "model_module": "@jupyter-widgets/base",
          "model_name": "LayoutModel",
          "model_module_version": "1.2.0",
          "state": {
            "_model_module": "@jupyter-widgets/base",
            "_model_module_version": "1.2.0",
            "_model_name": "LayoutModel",
            "_view_count": null,
            "_view_module": "@jupyter-widgets/base",
            "_view_module_version": "1.2.0",
            "_view_name": "LayoutView",
            "align_content": null,
            "align_items": null,
            "align_self": null,
            "border": null,
            "bottom": null,
            "display": null,
            "flex": null,
            "flex_flow": null,
            "grid_area": null,
            "grid_auto_columns": null,
            "grid_auto_flow": null,
            "grid_auto_rows": null,
            "grid_column": null,
            "grid_gap": null,
            "grid_row": null,
            "grid_template_areas": null,
            "grid_template_columns": null,
            "grid_template_rows": null,
            "height": null,
            "justify_content": null,
            "justify_items": null,
            "left": null,
            "margin": null,
            "max_height": null,
            "max_width": null,
            "min_height": null,
            "min_width": null,
            "object_fit": null,
            "object_position": null,
            "order": null,
            "overflow": null,
            "overflow_x": null,
            "overflow_y": null,
            "padding": null,
            "right": null,
            "top": null,
            "visibility": null,
            "width": null
          }
        },
        "045b8c6733f147b9b1c07f2e3be5240d": {
          "model_module": "@jupyter-widgets/base",
          "model_name": "LayoutModel",
          "model_module_version": "1.2.0",
          "state": {
            "_model_module": "@jupyter-widgets/base",
            "_model_module_version": "1.2.0",
            "_model_name": "LayoutModel",
            "_view_count": null,
            "_view_module": "@jupyter-widgets/base",
            "_view_module_version": "1.2.0",
            "_view_name": "LayoutView",
            "align_content": null,
            "align_items": null,
            "align_self": null,
            "border": null,
            "bottom": null,
            "display": null,
            "flex": null,
            "flex_flow": null,
            "grid_area": null,
            "grid_auto_columns": null,
            "grid_auto_flow": null,
            "grid_auto_rows": null,
            "grid_column": null,
            "grid_gap": null,
            "grid_row": null,
            "grid_template_areas": null,
            "grid_template_columns": null,
            "grid_template_rows": null,
            "height": null,
            "justify_content": null,
            "justify_items": null,
            "left": null,
            "margin": null,
            "max_height": null,
            "max_width": null,
            "min_height": null,
            "min_width": null,
            "object_fit": null,
            "object_position": null,
            "order": null,
            "overflow": null,
            "overflow_x": null,
            "overflow_y": null,
            "padding": null,
            "right": null,
            "top": null,
            "visibility": null,
            "width": null
          }
        },
        "c29a8fa9b5134c94a055b63f54268dfc": {
          "model_module": "@jupyter-widgets/controls",
          "model_name": "DescriptionStyleModel",
          "model_module_version": "1.5.0",
          "state": {
            "_model_module": "@jupyter-widgets/controls",
            "_model_module_version": "1.5.0",
            "_model_name": "DescriptionStyleModel",
            "_view_count": null,
            "_view_module": "@jupyter-widgets/base",
            "_view_module_version": "1.2.0",
            "_view_name": "StyleView",
            "description_width": ""
          }
        },
        "c43ba34c96694397bd006ddaa80d723c": {
          "model_module": "@jupyter-widgets/base",
          "model_name": "LayoutModel",
          "model_module_version": "1.2.0",
          "state": {
            "_model_module": "@jupyter-widgets/base",
            "_model_module_version": "1.2.0",
            "_model_name": "LayoutModel",
            "_view_count": null,
            "_view_module": "@jupyter-widgets/base",
            "_view_module_version": "1.2.0",
            "_view_name": "LayoutView",
            "align_content": null,
            "align_items": null,
            "align_self": null,
            "border": null,
            "bottom": null,
            "display": null,
            "flex": null,
            "flex_flow": null,
            "grid_area": null,
            "grid_auto_columns": null,
            "grid_auto_flow": null,
            "grid_auto_rows": null,
            "grid_column": null,
            "grid_gap": null,
            "grid_row": null,
            "grid_template_areas": null,
            "grid_template_columns": null,
            "grid_template_rows": null,
            "height": null,
            "justify_content": null,
            "justify_items": null,
            "left": null,
            "margin": null,
            "max_height": null,
            "max_width": null,
            "min_height": null,
            "min_width": null,
            "object_fit": null,
            "object_position": null,
            "order": null,
            "overflow": null,
            "overflow_x": null,
            "overflow_y": null,
            "padding": null,
            "right": null,
            "top": null,
            "visibility": null,
            "width": null
          }
        },
        "66f6c53c84cd471596c10458c0475457": {
          "model_module": "@jupyter-widgets/controls",
          "model_name": "ProgressStyleModel",
          "model_module_version": "1.5.0",
          "state": {
            "_model_module": "@jupyter-widgets/controls",
            "_model_module_version": "1.5.0",
            "_model_name": "ProgressStyleModel",
            "_view_count": null,
            "_view_module": "@jupyter-widgets/base",
            "_view_module_version": "1.2.0",
            "_view_name": "StyleView",
            "bar_color": null,
            "description_width": ""
          }
        },
        "319c6da2e2604202a7256b628a91d96f": {
          "model_module": "@jupyter-widgets/base",
          "model_name": "LayoutModel",
          "model_module_version": "1.2.0",
          "state": {
            "_model_module": "@jupyter-widgets/base",
            "_model_module_version": "1.2.0",
            "_model_name": "LayoutModel",
            "_view_count": null,
            "_view_module": "@jupyter-widgets/base",
            "_view_module_version": "1.2.0",
            "_view_name": "LayoutView",
            "align_content": null,
            "align_items": null,
            "align_self": null,
            "border": null,
            "bottom": null,
            "display": null,
            "flex": null,
            "flex_flow": null,
            "grid_area": null,
            "grid_auto_columns": null,
            "grid_auto_flow": null,
            "grid_auto_rows": null,
            "grid_column": null,
            "grid_gap": null,
            "grid_row": null,
            "grid_template_areas": null,
            "grid_template_columns": null,
            "grid_template_rows": null,
            "height": null,
            "justify_content": null,
            "justify_items": null,
            "left": null,
            "margin": null,
            "max_height": null,
            "max_width": null,
            "min_height": null,
            "min_width": null,
            "object_fit": null,
            "object_position": null,
            "order": null,
            "overflow": null,
            "overflow_x": null,
            "overflow_y": null,
            "padding": null,
            "right": null,
            "top": null,
            "visibility": null,
            "width": null
          }
        },
        "c89bde9f80b74579add91998b9a00441": {
          "model_module": "@jupyter-widgets/controls",
          "model_name": "DescriptionStyleModel",
          "model_module_version": "1.5.0",
          "state": {
            "_model_module": "@jupyter-widgets/controls",
            "_model_module_version": "1.5.0",
            "_model_name": "DescriptionStyleModel",
            "_view_count": null,
            "_view_module": "@jupyter-widgets/base",
            "_view_module_version": "1.2.0",
            "_view_name": "StyleView",
            "description_width": ""
          }
        },
        "3ed1d5b93f524dff816045d1994fa3bc": {
          "model_module": "@jupyter-widgets/controls",
          "model_name": "HBoxModel",
          "model_module_version": "1.5.0",
          "state": {
            "_dom_classes": [],
            "_model_module": "@jupyter-widgets/controls",
            "_model_module_version": "1.5.0",
            "_model_name": "HBoxModel",
            "_view_count": null,
            "_view_module": "@jupyter-widgets/controls",
            "_view_module_version": "1.5.0",
            "_view_name": "HBoxView",
            "box_style": "",
            "children": [
              "IPY_MODEL_542bc65536c74184a8060ba82f5513df",
              "IPY_MODEL_0e65984c96504b6592baf456847e7d72",
              "IPY_MODEL_15605febfc014f5d8efac60490396ccb"
            ],
            "layout": "IPY_MODEL_78696f6eed674192b204930f9548ac6e"
          }
        },
        "542bc65536c74184a8060ba82f5513df": {
          "model_module": "@jupyter-widgets/controls",
          "model_name": "HTMLModel",
          "model_module_version": "1.5.0",
          "state": {
            "_dom_classes": [],
            "_model_module": "@jupyter-widgets/controls",
            "_model_module_version": "1.5.0",
            "_model_name": "HTMLModel",
            "_view_count": null,
            "_view_module": "@jupyter-widgets/controls",
            "_view_module_version": "1.5.0",
            "_view_name": "HTMLView",
            "description": "",
            "description_tooltip": null,
            "layout": "IPY_MODEL_f3343d96b9ec4f42891c08d180757f3d",
            "placeholder": "​",
            "style": "IPY_MODEL_22387263c6dd40729cf8bf6272307f1d",
            "value": "100%"
          }
        },
        "0e65984c96504b6592baf456847e7d72": {
          "model_module": "@jupyter-widgets/controls",
          "model_name": "FloatProgressModel",
          "model_module_version": "1.5.0",
          "state": {
            "_dom_classes": [],
            "_model_module": "@jupyter-widgets/controls",
            "_model_module_version": "1.5.0",
            "_model_name": "FloatProgressModel",
            "_view_count": null,
            "_view_module": "@jupyter-widgets/controls",
            "_view_module_version": "1.5.0",
            "_view_name": "ProgressView",
            "bar_style": "success",
            "description": "",
            "description_tooltip": null,
            "layout": "IPY_MODEL_97ccd254fd294664beae5b04084a1846",
            "max": 46830571,
            "min": 0,
            "orientation": "horizontal",
            "style": "IPY_MODEL_a2adb5e057934c99a4ac3d57d96baea6",
            "value": 46830571
          }
        },
        "15605febfc014f5d8efac60490396ccb": {
          "model_module": "@jupyter-widgets/controls",
          "model_name": "HTMLModel",
          "model_module_version": "1.5.0",
          "state": {
            "_dom_classes": [],
            "_model_module": "@jupyter-widgets/controls",
            "_model_module_version": "1.5.0",
            "_model_name": "HTMLModel",
            "_view_count": null,
            "_view_module": "@jupyter-widgets/controls",
            "_view_module_version": "1.5.0",
            "_view_name": "HTMLView",
            "description": "",
            "description_tooltip": null,
            "layout": "IPY_MODEL_24e9473ff9e64134a69922767f659b1d",
            "placeholder": "​",
            "style": "IPY_MODEL_41fdc7a4a07841dbb8ec19f4d71bc102",
            "value": " 44.7M/44.7M [00:01&lt;00:00, 60.6MB/s]"
          }
        },
        "78696f6eed674192b204930f9548ac6e": {
          "model_module": "@jupyter-widgets/base",
          "model_name": "LayoutModel",
          "model_module_version": "1.2.0",
          "state": {
            "_model_module": "@jupyter-widgets/base",
            "_model_module_version": "1.2.0",
            "_model_name": "LayoutModel",
            "_view_count": null,
            "_view_module": "@jupyter-widgets/base",
            "_view_module_version": "1.2.0",
            "_view_name": "LayoutView",
            "align_content": null,
            "align_items": null,
            "align_self": null,
            "border": null,
            "bottom": null,
            "display": null,
            "flex": null,
            "flex_flow": null,
            "grid_area": null,
            "grid_auto_columns": null,
            "grid_auto_flow": null,
            "grid_auto_rows": null,
            "grid_column": null,
            "grid_gap": null,
            "grid_row": null,
            "grid_template_areas": null,
            "grid_template_columns": null,
            "grid_template_rows": null,
            "height": null,
            "justify_content": null,
            "justify_items": null,
            "left": null,
            "margin": null,
            "max_height": null,
            "max_width": null,
            "min_height": null,
            "min_width": null,
            "object_fit": null,
            "object_position": null,
            "order": null,
            "overflow": null,
            "overflow_x": null,
            "overflow_y": null,
            "padding": null,
            "right": null,
            "top": null,
            "visibility": null,
            "width": null
          }
        },
        "f3343d96b9ec4f42891c08d180757f3d": {
          "model_module": "@jupyter-widgets/base",
          "model_name": "LayoutModel",
          "model_module_version": "1.2.0",
          "state": {
            "_model_module": "@jupyter-widgets/base",
            "_model_module_version": "1.2.0",
            "_model_name": "LayoutModel",
            "_view_count": null,
            "_view_module": "@jupyter-widgets/base",
            "_view_module_version": "1.2.0",
            "_view_name": "LayoutView",
            "align_content": null,
            "align_items": null,
            "align_self": null,
            "border": null,
            "bottom": null,
            "display": null,
            "flex": null,
            "flex_flow": null,
            "grid_area": null,
            "grid_auto_columns": null,
            "grid_auto_flow": null,
            "grid_auto_rows": null,
            "grid_column": null,
            "grid_gap": null,
            "grid_row": null,
            "grid_template_areas": null,
            "grid_template_columns": null,
            "grid_template_rows": null,
            "height": null,
            "justify_content": null,
            "justify_items": null,
            "left": null,
            "margin": null,
            "max_height": null,
            "max_width": null,
            "min_height": null,
            "min_width": null,
            "object_fit": null,
            "object_position": null,
            "order": null,
            "overflow": null,
            "overflow_x": null,
            "overflow_y": null,
            "padding": null,
            "right": null,
            "top": null,
            "visibility": null,
            "width": null
          }
        },
        "22387263c6dd40729cf8bf6272307f1d": {
          "model_module": "@jupyter-widgets/controls",
          "model_name": "DescriptionStyleModel",
          "model_module_version": "1.5.0",
          "state": {
            "_model_module": "@jupyter-widgets/controls",
            "_model_module_version": "1.5.0",
            "_model_name": "DescriptionStyleModel",
            "_view_count": null,
            "_view_module": "@jupyter-widgets/base",
            "_view_module_version": "1.2.0",
            "_view_name": "StyleView",
            "description_width": ""
          }
        },
        "97ccd254fd294664beae5b04084a1846": {
          "model_module": "@jupyter-widgets/base",
          "model_name": "LayoutModel",
          "model_module_version": "1.2.0",
          "state": {
            "_model_module": "@jupyter-widgets/base",
            "_model_module_version": "1.2.0",
            "_model_name": "LayoutModel",
            "_view_count": null,
            "_view_module": "@jupyter-widgets/base",
            "_view_module_version": "1.2.0",
            "_view_name": "LayoutView",
            "align_content": null,
            "align_items": null,
            "align_self": null,
            "border": null,
            "bottom": null,
            "display": null,
            "flex": null,
            "flex_flow": null,
            "grid_area": null,
            "grid_auto_columns": null,
            "grid_auto_flow": null,
            "grid_auto_rows": null,
            "grid_column": null,
            "grid_gap": null,
            "grid_row": null,
            "grid_template_areas": null,
            "grid_template_columns": null,
            "grid_template_rows": null,
            "height": null,
            "justify_content": null,
            "justify_items": null,
            "left": null,
            "margin": null,
            "max_height": null,
            "max_width": null,
            "min_height": null,
            "min_width": null,
            "object_fit": null,
            "object_position": null,
            "order": null,
            "overflow": null,
            "overflow_x": null,
            "overflow_y": null,
            "padding": null,
            "right": null,
            "top": null,
            "visibility": null,
            "width": null
          }
        },
        "a2adb5e057934c99a4ac3d57d96baea6": {
          "model_module": "@jupyter-widgets/controls",
          "model_name": "ProgressStyleModel",
          "model_module_version": "1.5.0",
          "state": {
            "_model_module": "@jupyter-widgets/controls",
            "_model_module_version": "1.5.0",
            "_model_name": "ProgressStyleModel",
            "_view_count": null,
            "_view_module": "@jupyter-widgets/base",
            "_view_module_version": "1.2.0",
            "_view_name": "StyleView",
            "bar_color": null,
            "description_width": ""
          }
        },
        "24e9473ff9e64134a69922767f659b1d": {
          "model_module": "@jupyter-widgets/base",
          "model_name": "LayoutModel",
          "model_module_version": "1.2.0",
          "state": {
            "_model_module": "@jupyter-widgets/base",
            "_model_module_version": "1.2.0",
            "_model_name": "LayoutModel",
            "_view_count": null,
            "_view_module": "@jupyter-widgets/base",
            "_view_module_version": "1.2.0",
            "_view_name": "LayoutView",
            "align_content": null,
            "align_items": null,
            "align_self": null,
            "border": null,
            "bottom": null,
            "display": null,
            "flex": null,
            "flex_flow": null,
            "grid_area": null,
            "grid_auto_columns": null,
            "grid_auto_flow": null,
            "grid_auto_rows": null,
            "grid_column": null,
            "grid_gap": null,
            "grid_row": null,
            "grid_template_areas": null,
            "grid_template_columns": null,
            "grid_template_rows": null,
            "height": null,
            "justify_content": null,
            "justify_items": null,
            "left": null,
            "margin": null,
            "max_height": null,
            "max_width": null,
            "min_height": null,
            "min_width": null,
            "object_fit": null,
            "object_position": null,
            "order": null,
            "overflow": null,
            "overflow_x": null,
            "overflow_y": null,
            "padding": null,
            "right": null,
            "top": null,
            "visibility": null,
            "width": null
          }
        },
        "41fdc7a4a07841dbb8ec19f4d71bc102": {
          "model_module": "@jupyter-widgets/controls",
          "model_name": "DescriptionStyleModel",
          "model_module_version": "1.5.0",
          "state": {
            "_model_module": "@jupyter-widgets/controls",
            "_model_module_version": "1.5.0",
            "_model_name": "DescriptionStyleModel",
            "_view_count": null,
            "_view_module": "@jupyter-widgets/base",
            "_view_module_version": "1.2.0",
            "_view_name": "StyleView",
            "description_width": ""
          }
        }
      }
    }
  },
  "cells": [
    {
      "cell_type": "markdown",
      "metadata": {
        "id": "view-in-github",
        "colab_type": "text"
      },
      "source": [
        "<a href=\"https://colab.research.google.com/github/BhavyaKohli/Using-facial-features-for-recognition/blob/main/test.ipynb\" target=\"_parent\"><img src=\"https://colab.research.google.com/assets/colab-badge.svg\" alt=\"Open In Colab\"/></a>"
      ]
    },
    {
      "cell_type": "code",
      "source": [
        "from google.colab import drive\n",
        "drive.mount('/content/drive')"
      ],
      "metadata": {
        "colab": {
          "base_uri": "https://localhost:8080/"
        },
        "id": "kDzn7zX4wxGK",
        "outputId": "4e56d2fc-0956-4d2a-89dd-15fb7ae6afb2"
      },
      "execution_count": 1,
      "outputs": [
        {
          "output_type": "stream",
          "name": "stdout",
          "text": [
            "Drive already mounted at /content/drive; to attempt to forcibly remount, call drive.mount(\"/content/drive\", force_remount=True).\n"
          ]
        }
      ]
    },
    {
      "cell_type": "code",
      "source": [
        "%%capture\n",
        "!pip install fastai==2.5.5\n",
        "!pip install watermark"
      ],
      "metadata": {
        "id": "gSG_KM4FRWPa"
      },
      "execution_count": 2,
      "outputs": []
    },
    {
      "cell_type": "code",
      "source": [
        "%load_ext watermark"
      ],
      "metadata": {
        "id": "Uhz1aRmWRa1j"
      },
      "execution_count": 3,
      "outputs": []
    },
    {
      "cell_type": "code",
      "source": [
        "%watermark -v -p numpy,pandas,fastai,torch"
      ],
      "metadata": {
        "colab": {
          "base_uri": "https://localhost:8080/"
        },
        "id": "63LGusWWRc4j",
        "outputId": "ad5cbba0-be76-4cd3-a8ca-b7b80b46dbf6"
      },
      "execution_count": 4,
      "outputs": [
        {
          "output_type": "stream",
          "name": "stdout",
          "text": [
            "Python implementation: CPython\n",
            "Python version       : 3.7.13\n",
            "IPython version      : 5.5.0\n",
            "\n",
            "numpy : 1.21.6\n",
            "pandas: 1.3.5\n",
            "fastai: 2.5.5\n",
            "torch : 1.10.2\n",
            "\n"
          ]
        }
      ]
    },
    {
      "cell_type": "code",
      "source": [
        "from fastai.vision.all import *\n",
        "import matplotlib.pyplot as plt\n",
        "\n",
        "print(torch.cuda.is_available())\n",
        "print(torch.version.cuda)\n",
        "print(torch.__version__)"
      ],
      "metadata": {
        "colab": {
          "base_uri": "https://localhost:8080/"
        },
        "id": "rcjnySXLJiPR",
        "outputId": "b9aac861-48b7-4878-ba0a-a8eee8d3bf1b"
      },
      "execution_count": 6,
      "outputs": [
        {
          "output_type": "stream",
          "name": "stdout",
          "text": [
            "True\n",
            "10.2\n",
            "1.10.2+cu102\n"
          ]
        }
      ]
    },
    {
      "cell_type": "code",
      "execution_count": 7,
      "metadata": {
        "id": "HFpqlIrXJK3q"
      },
      "outputs": [],
      "source": [
        "import numpy as np\n",
        "import pandas as pd"
      ]
    },
    {
      "cell_type": "markdown",
      "source": [
        "# Exploratory Data Analysis"
      ],
      "metadata": {
        "id": "ijHOjaydxjoo"
      }
    },
    {
      "cell_type": "code",
      "source": [
        "PROJECT_DIR = \"/content/drive/Shareddrives/DS 303 Course Project/\"\n",
        "DATA_DIR = PROJECT_DIR + 'data/'\n",
        "\n",
        "lookup = pd.read_csv(DATA_DIR + 'IdLookupTable.csv')\n",
        "train_df = pd.read_csv(DATA_DIR + 'training.zip')\n",
        "test_df = pd.read_csv(DATA_DIR + 'test.zip')\n",
        "\n",
        "train_images_df = train_df['Image']\n",
        "train_points_df = train_df.drop(columns=['Image'])"
      ],
      "metadata": {
        "id": "y41ZL5e_JVwZ"
      },
      "execution_count": 8,
      "outputs": []
    },
    {
      "cell_type": "code",
      "source": [
        "train_points_df.head()"
      ],
      "metadata": {
        "colab": {
          "base_uri": "https://localhost:8080/",
          "height": 300
        },
        "id": "RgsWNVQRLMBx",
        "outputId": "39cec005-5aaf-45f3-f8f6-f55975314d08"
      },
      "execution_count": 9,
      "outputs": [
        {
          "output_type": "execute_result",
          "data": {
            "text/plain": [
              "   left_eye_center_x  left_eye_center_y  right_eye_center_x  \\\n",
              "0          66.033564          39.002274           30.227008   \n",
              "1          64.332936          34.970077           29.949277   \n",
              "2          65.057053          34.909642           30.903789   \n",
              "3          65.225739          37.261774           32.023096   \n",
              "4          66.725301          39.621261           32.244810   \n",
              "\n",
              "   right_eye_center_y  left_eye_inner_corner_x  left_eye_inner_corner_y  \\\n",
              "0           36.421678                59.582075                39.647423   \n",
              "1           33.448715                58.856170                35.274349   \n",
              "2           34.909642                59.412000                36.320968   \n",
              "3           37.261774                60.003339                39.127179   \n",
              "4           38.042032                58.565890                39.621261   \n",
              "\n",
              "   left_eye_outer_corner_x  left_eye_outer_corner_y  right_eye_inner_corner_x  \\\n",
              "0                73.130346                39.969997                 36.356571   \n",
              "1                70.722723                36.187166                 36.034723   \n",
              "2                70.984421                36.320968                 37.678105   \n",
              "3                72.314713                38.380967                 37.618643   \n",
              "4                72.515926                39.884466                 36.982380   \n",
              "\n",
              "   right_eye_inner_corner_y  ...  nose_tip_x  nose_tip_y  mouth_left_corner_x  \\\n",
              "0                 37.389402  ...   44.420571   57.066803            61.195308   \n",
              "1                 34.361532  ...   48.206298   55.660936            56.421447   \n",
              "2                 36.320968  ...   47.557263   53.538947            60.822947   \n",
              "3                 38.754115  ...   51.885078   54.166539            65.598887   \n",
              "4                 39.094852  ...   43.299534   64.889521            60.671411   \n",
              "\n",
              "   mouth_left_corner_y  mouth_right_corner_x  mouth_right_corner_y  \\\n",
              "0            79.970165             28.614496             77.388992   \n",
              "1            76.352000             35.122383             76.047660   \n",
              "2            73.014316             33.726316             72.732000   \n",
              "3            72.703722             37.245496             74.195478   \n",
              "4            77.523239             31.191755             76.997301   \n",
              "\n",
              "   mouth_center_top_lip_x  mouth_center_top_lip_y  mouth_center_bottom_lip_x  \\\n",
              "0               43.312602               72.935459                  43.130707   \n",
              "1               46.684596               70.266553                  45.467915   \n",
              "2               47.274947               70.191789                  47.274947   \n",
              "3               50.303165               70.091687                  51.561183   \n",
              "4               44.962748               73.707387                  44.227141   \n",
              "\n",
              "   mouth_center_bottom_lip_y  \n",
              "0                  84.485774  \n",
              "1                  85.480170  \n",
              "2                  78.659368  \n",
              "3                  78.268383  \n",
              "4                  86.871166  \n",
              "\n",
              "[5 rows x 30 columns]"
            ],
            "text/html": [
              "\n",
              "  <div id=\"df-8a96e70c-9a1b-424c-ac0f-70495c92a787\">\n",
              "    <div class=\"colab-df-container\">\n",
              "      <div>\n",
              "<style scoped>\n",
              "    .dataframe tbody tr th:only-of-type {\n",
              "        vertical-align: middle;\n",
              "    }\n",
              "\n",
              "    .dataframe tbody tr th {\n",
              "        vertical-align: top;\n",
              "    }\n",
              "\n",
              "    .dataframe thead th {\n",
              "        text-align: right;\n",
              "    }\n",
              "</style>\n",
              "<table border=\"1\" class=\"dataframe\">\n",
              "  <thead>\n",
              "    <tr style=\"text-align: right;\">\n",
              "      <th></th>\n",
              "      <th>left_eye_center_x</th>\n",
              "      <th>left_eye_center_y</th>\n",
              "      <th>right_eye_center_x</th>\n",
              "      <th>right_eye_center_y</th>\n",
              "      <th>left_eye_inner_corner_x</th>\n",
              "      <th>left_eye_inner_corner_y</th>\n",
              "      <th>left_eye_outer_corner_x</th>\n",
              "      <th>left_eye_outer_corner_y</th>\n",
              "      <th>right_eye_inner_corner_x</th>\n",
              "      <th>right_eye_inner_corner_y</th>\n",
              "      <th>...</th>\n",
              "      <th>nose_tip_x</th>\n",
              "      <th>nose_tip_y</th>\n",
              "      <th>mouth_left_corner_x</th>\n",
              "      <th>mouth_left_corner_y</th>\n",
              "      <th>mouth_right_corner_x</th>\n",
              "      <th>mouth_right_corner_y</th>\n",
              "      <th>mouth_center_top_lip_x</th>\n",
              "      <th>mouth_center_top_lip_y</th>\n",
              "      <th>mouth_center_bottom_lip_x</th>\n",
              "      <th>mouth_center_bottom_lip_y</th>\n",
              "    </tr>\n",
              "  </thead>\n",
              "  <tbody>\n",
              "    <tr>\n",
              "      <th>0</th>\n",
              "      <td>66.033564</td>\n",
              "      <td>39.002274</td>\n",
              "      <td>30.227008</td>\n",
              "      <td>36.421678</td>\n",
              "      <td>59.582075</td>\n",
              "      <td>39.647423</td>\n",
              "      <td>73.130346</td>\n",
              "      <td>39.969997</td>\n",
              "      <td>36.356571</td>\n",
              "      <td>37.389402</td>\n",
              "      <td>...</td>\n",
              "      <td>44.420571</td>\n",
              "      <td>57.066803</td>\n",
              "      <td>61.195308</td>\n",
              "      <td>79.970165</td>\n",
              "      <td>28.614496</td>\n",
              "      <td>77.388992</td>\n",
              "      <td>43.312602</td>\n",
              "      <td>72.935459</td>\n",
              "      <td>43.130707</td>\n",
              "      <td>84.485774</td>\n",
              "    </tr>\n",
              "    <tr>\n",
              "      <th>1</th>\n",
              "      <td>64.332936</td>\n",
              "      <td>34.970077</td>\n",
              "      <td>29.949277</td>\n",
              "      <td>33.448715</td>\n",
              "      <td>58.856170</td>\n",
              "      <td>35.274349</td>\n",
              "      <td>70.722723</td>\n",
              "      <td>36.187166</td>\n",
              "      <td>36.034723</td>\n",
              "      <td>34.361532</td>\n",
              "      <td>...</td>\n",
              "      <td>48.206298</td>\n",
              "      <td>55.660936</td>\n",
              "      <td>56.421447</td>\n",
              "      <td>76.352000</td>\n",
              "      <td>35.122383</td>\n",
              "      <td>76.047660</td>\n",
              "      <td>46.684596</td>\n",
              "      <td>70.266553</td>\n",
              "      <td>45.467915</td>\n",
              "      <td>85.480170</td>\n",
              "    </tr>\n",
              "    <tr>\n",
              "      <th>2</th>\n",
              "      <td>65.057053</td>\n",
              "      <td>34.909642</td>\n",
              "      <td>30.903789</td>\n",
              "      <td>34.909642</td>\n",
              "      <td>59.412000</td>\n",
              "      <td>36.320968</td>\n",
              "      <td>70.984421</td>\n",
              "      <td>36.320968</td>\n",
              "      <td>37.678105</td>\n",
              "      <td>36.320968</td>\n",
              "      <td>...</td>\n",
              "      <td>47.557263</td>\n",
              "      <td>53.538947</td>\n",
              "      <td>60.822947</td>\n",
              "      <td>73.014316</td>\n",
              "      <td>33.726316</td>\n",
              "      <td>72.732000</td>\n",
              "      <td>47.274947</td>\n",
              "      <td>70.191789</td>\n",
              "      <td>47.274947</td>\n",
              "      <td>78.659368</td>\n",
              "    </tr>\n",
              "    <tr>\n",
              "      <th>3</th>\n",
              "      <td>65.225739</td>\n",
              "      <td>37.261774</td>\n",
              "      <td>32.023096</td>\n",
              "      <td>37.261774</td>\n",
              "      <td>60.003339</td>\n",
              "      <td>39.127179</td>\n",
              "      <td>72.314713</td>\n",
              "      <td>38.380967</td>\n",
              "      <td>37.618643</td>\n",
              "      <td>38.754115</td>\n",
              "      <td>...</td>\n",
              "      <td>51.885078</td>\n",
              "      <td>54.166539</td>\n",
              "      <td>65.598887</td>\n",
              "      <td>72.703722</td>\n",
              "      <td>37.245496</td>\n",
              "      <td>74.195478</td>\n",
              "      <td>50.303165</td>\n",
              "      <td>70.091687</td>\n",
              "      <td>51.561183</td>\n",
              "      <td>78.268383</td>\n",
              "    </tr>\n",
              "    <tr>\n",
              "      <th>4</th>\n",
              "      <td>66.725301</td>\n",
              "      <td>39.621261</td>\n",
              "      <td>32.244810</td>\n",
              "      <td>38.042032</td>\n",
              "      <td>58.565890</td>\n",
              "      <td>39.621261</td>\n",
              "      <td>72.515926</td>\n",
              "      <td>39.884466</td>\n",
              "      <td>36.982380</td>\n",
              "      <td>39.094852</td>\n",
              "      <td>...</td>\n",
              "      <td>43.299534</td>\n",
              "      <td>64.889521</td>\n",
              "      <td>60.671411</td>\n",
              "      <td>77.523239</td>\n",
              "      <td>31.191755</td>\n",
              "      <td>76.997301</td>\n",
              "      <td>44.962748</td>\n",
              "      <td>73.707387</td>\n",
              "      <td>44.227141</td>\n",
              "      <td>86.871166</td>\n",
              "    </tr>\n",
              "  </tbody>\n",
              "</table>\n",
              "<p>5 rows × 30 columns</p>\n",
              "</div>\n",
              "      <button class=\"colab-df-convert\" onclick=\"convertToInteractive('df-8a96e70c-9a1b-424c-ac0f-70495c92a787')\"\n",
              "              title=\"Convert this dataframe to an interactive table.\"\n",
              "              style=\"display:none;\">\n",
              "        \n",
              "  <svg xmlns=\"http://www.w3.org/2000/svg\" height=\"24px\"viewBox=\"0 0 24 24\"\n",
              "       width=\"24px\">\n",
              "    <path d=\"M0 0h24v24H0V0z\" fill=\"none\"/>\n",
              "    <path d=\"M18.56 5.44l.94 2.06.94-2.06 2.06-.94-2.06-.94-.94-2.06-.94 2.06-2.06.94zm-11 1L8.5 8.5l.94-2.06 2.06-.94-2.06-.94L8.5 2.5l-.94 2.06-2.06.94zm10 10l.94 2.06.94-2.06 2.06-.94-2.06-.94-.94-2.06-.94 2.06-2.06.94z\"/><path d=\"M17.41 7.96l-1.37-1.37c-.4-.4-.92-.59-1.43-.59-.52 0-1.04.2-1.43.59L10.3 9.45l-7.72 7.72c-.78.78-.78 2.05 0 2.83L4 21.41c.39.39.9.59 1.41.59.51 0 1.02-.2 1.41-.59l7.78-7.78 2.81-2.81c.8-.78.8-2.07 0-2.86zM5.41 20L4 18.59l7.72-7.72 1.47 1.35L5.41 20z\"/>\n",
              "  </svg>\n",
              "      </button>\n",
              "      \n",
              "  <style>\n",
              "    .colab-df-container {\n",
              "      display:flex;\n",
              "      flex-wrap:wrap;\n",
              "      gap: 12px;\n",
              "    }\n",
              "\n",
              "    .colab-df-convert {\n",
              "      background-color: #E8F0FE;\n",
              "      border: none;\n",
              "      border-radius: 50%;\n",
              "      cursor: pointer;\n",
              "      display: none;\n",
              "      fill: #1967D2;\n",
              "      height: 32px;\n",
              "      padding: 0 0 0 0;\n",
              "      width: 32px;\n",
              "    }\n",
              "\n",
              "    .colab-df-convert:hover {\n",
              "      background-color: #E2EBFA;\n",
              "      box-shadow: 0px 1px 2px rgba(60, 64, 67, 0.3), 0px 1px 3px 1px rgba(60, 64, 67, 0.15);\n",
              "      fill: #174EA6;\n",
              "    }\n",
              "\n",
              "    [theme=dark] .colab-df-convert {\n",
              "      background-color: #3B4455;\n",
              "      fill: #D2E3FC;\n",
              "    }\n",
              "\n",
              "    [theme=dark] .colab-df-convert:hover {\n",
              "      background-color: #434B5C;\n",
              "      box-shadow: 0px 1px 3px 1px rgba(0, 0, 0, 0.15);\n",
              "      filter: drop-shadow(0px 1px 2px rgba(0, 0, 0, 0.3));\n",
              "      fill: #FFFFFF;\n",
              "    }\n",
              "  </style>\n",
              "\n",
              "      <script>\n",
              "        const buttonEl =\n",
              "          document.querySelector('#df-8a96e70c-9a1b-424c-ac0f-70495c92a787 button.colab-df-convert');\n",
              "        buttonEl.style.display =\n",
              "          google.colab.kernel.accessAllowed ? 'block' : 'none';\n",
              "\n",
              "        async function convertToInteractive(key) {\n",
              "          const element = document.querySelector('#df-8a96e70c-9a1b-424c-ac0f-70495c92a787');\n",
              "          const dataTable =\n",
              "            await google.colab.kernel.invokeFunction('convertToInteractive',\n",
              "                                                     [key], {});\n",
              "          if (!dataTable) return;\n",
              "\n",
              "          const docLinkHtml = 'Like what you see? Visit the ' +\n",
              "            '<a target=\"_blank\" href=https://colab.research.google.com/notebooks/data_table.ipynb>data table notebook</a>'\n",
              "            + ' to learn more about interactive tables.';\n",
              "          element.innerHTML = '';\n",
              "          dataTable['output_type'] = 'display_data';\n",
              "          await google.colab.output.renderOutput(dataTable, element);\n",
              "          const docLink = document.createElement('div');\n",
              "          docLink.innerHTML = docLinkHtml;\n",
              "          element.appendChild(docLink);\n",
              "        }\n",
              "      </script>\n",
              "    </div>\n",
              "  </div>\n",
              "  "
            ]
          },
          "metadata": {},
          "execution_count": 9
        }
      ]
    },
    {
      "cell_type": "code",
      "source": [
        "mapping = {i: j for i,j in zip(range(30),train_points_df.columns)}\n",
        "mapping"
      ],
      "metadata": {
        "colab": {
          "base_uri": "https://localhost:8080/"
        },
        "id": "b8vmXc8-LO7x",
        "outputId": "315df702-ca76-40fb-dd75-d1588a0dfa04"
      },
      "execution_count": 10,
      "outputs": [
        {
          "output_type": "execute_result",
          "data": {
            "text/plain": [
              "{0: 'left_eye_center_x',\n",
              " 1: 'left_eye_center_y',\n",
              " 2: 'right_eye_center_x',\n",
              " 3: 'right_eye_center_y',\n",
              " 4: 'left_eye_inner_corner_x',\n",
              " 5: 'left_eye_inner_corner_y',\n",
              " 6: 'left_eye_outer_corner_x',\n",
              " 7: 'left_eye_outer_corner_y',\n",
              " 8: 'right_eye_inner_corner_x',\n",
              " 9: 'right_eye_inner_corner_y',\n",
              " 10: 'right_eye_outer_corner_x',\n",
              " 11: 'right_eye_outer_corner_y',\n",
              " 12: 'left_eyebrow_inner_end_x',\n",
              " 13: 'left_eyebrow_inner_end_y',\n",
              " 14: 'left_eyebrow_outer_end_x',\n",
              " 15: 'left_eyebrow_outer_end_y',\n",
              " 16: 'right_eyebrow_inner_end_x',\n",
              " 17: 'right_eyebrow_inner_end_y',\n",
              " 18: 'right_eyebrow_outer_end_x',\n",
              " 19: 'right_eyebrow_outer_end_y',\n",
              " 20: 'nose_tip_x',\n",
              " 21: 'nose_tip_y',\n",
              " 22: 'mouth_left_corner_x',\n",
              " 23: 'mouth_left_corner_y',\n",
              " 24: 'mouth_right_corner_x',\n",
              " 25: 'mouth_right_corner_y',\n",
              " 26: 'mouth_center_top_lip_x',\n",
              " 27: 'mouth_center_top_lip_y',\n",
              " 28: 'mouth_center_bottom_lip_x',\n",
              " 29: 'mouth_center_bottom_lip_y'}"
            ]
          },
          "metadata": {},
          "execution_count": 10
        }
      ]
    },
    {
      "cell_type": "code",
      "source": [
        "train_df.dtypes"
      ],
      "metadata": {
        "colab": {
          "base_uri": "https://localhost:8080/"
        },
        "id": "tf0XVsQiLSE-",
        "outputId": "8b3e1b9a-5878-48c5-dfc4-8f6c90c43311"
      },
      "execution_count": 11,
      "outputs": [
        {
          "output_type": "execute_result",
          "data": {
            "text/plain": [
              "left_eye_center_x            float64\n",
              "left_eye_center_y            float64\n",
              "right_eye_center_x           float64\n",
              "right_eye_center_y           float64\n",
              "left_eye_inner_corner_x      float64\n",
              "left_eye_inner_corner_y      float64\n",
              "left_eye_outer_corner_x      float64\n",
              "left_eye_outer_corner_y      float64\n",
              "right_eye_inner_corner_x     float64\n",
              "right_eye_inner_corner_y     float64\n",
              "right_eye_outer_corner_x     float64\n",
              "right_eye_outer_corner_y     float64\n",
              "left_eyebrow_inner_end_x     float64\n",
              "left_eyebrow_inner_end_y     float64\n",
              "left_eyebrow_outer_end_x     float64\n",
              "left_eyebrow_outer_end_y     float64\n",
              "right_eyebrow_inner_end_x    float64\n",
              "right_eyebrow_inner_end_y    float64\n",
              "right_eyebrow_outer_end_x    float64\n",
              "right_eyebrow_outer_end_y    float64\n",
              "nose_tip_x                   float64\n",
              "nose_tip_y                   float64\n",
              "mouth_left_corner_x          float64\n",
              "mouth_left_corner_y          float64\n",
              "mouth_right_corner_x         float64\n",
              "mouth_right_corner_y         float64\n",
              "mouth_center_top_lip_x       float64\n",
              "mouth_center_top_lip_y       float64\n",
              "mouth_center_bottom_lip_x    float64\n",
              "mouth_center_bottom_lip_y    float64\n",
              "Image                         object\n",
              "dtype: object"
            ]
          },
          "metadata": {},
          "execution_count": 11
        }
      ]
    },
    {
      "cell_type": "code",
      "source": [
        "train_images_df[0]"
      ],
      "metadata": {
        "colab": {
          "base_uri": "https://localhost:8080/",
          "height": 122
        },
        "id": "AyDly0AKxsPV",
        "outputId": "d33f2b41-b360-4311-8528-707e7e4470b4"
      },
      "execution_count": 12,
      "outputs": [
        {
          "output_type": "execute_result",
          "data": {
            "text/plain": [
              "'238 236 237 238 240 240 239 241 241 243 240 239 231 212 190 173 148 122 104 92 79 73 74 73 73 74 81 74 60 64 75 86 93 102 100 105 109 114 121 127 132 134 137 137 140 139 138 137 137 140 141 143 144 147 148 149 147 147 148 145 147 144 146 147 147 143 134 130 130 128 116 104 98 90 82 78 85 88 86 80 77 87 108 111 115 128 133 188 242 252 250 248 251 250 250 250 235 238 236 238 238 237 238 242 241 239 237 233 215 195 187 156 119 103 93 78 68 73 75 75 72 75 70 61 66 77 91 96 106 108 113 120 125 131 134 138 135 138 139 145 144 144 142 140 141 141 148 147 150 149 152 151 149 150 147 148 144 148 144 146 146 143 139 128 132 135 128 112 104 97 87 78 79 83 85 83 75 75 89 109 111 117 117 130 194 243 251 249 250 249 250 251 237 236 237 238 237 238 241 238 238 238 241 221 195 187 163 124 106 95 81 68 70 73 73 72 73 69 65 74 82 94 103 110 111 119 127 135 140 139 144 144 145 143 143 143 146 144 144 147 146 148 147 150 146 147 150 150 149 147 147 144 147 144 149 146 144 144 144 140 131 133 133 125 110 106 96 83 79 79 86 86 81 71 73 95 112 107 111 119 139 200 245 252 252 251 251 250 236 237 237 235 236 239 239 238 239 240 232 201 182 164 121 103 99 83 70 67 72 73 74 73 68 67 75 84 96 107 112 116 121 131 137 143 146 147 146 145 148 148 147 143 148 149 148 148 147 148 149 151 152 153 149 149 149 147 147 150 151 148 150 147 149 147 145 146 141 129 129 129 115 108 108 92 78 80 84 88 87 78 73 74 98 111 104 114 128 145 201 245 253 251 251 250 235 236 236 236 237 239 239 239 239 234 215 186 154 124 103 92 80 69 65 68 69 73 72 71 67 75 86 96 107 112 123 130 141 143 148 149 150 151 147 147 145 150 147 147 147 147 148 149 149 148 153 152 155 150 153 153 152 153 149 150 148 154 149 152 151 149 147 144 147 140 135 127 124 114 114 102 83 80 82 86 88 87 75 71 79 102 110 109 121 129 145 209 247 251 250 251 235 233 236 235 237 236 239 237 235 225 205 161 120 105 95 85 75 66 66 69 68 66 65 67 76 85 97 109 114 126 132 141 142 145 149 152 150 148 149 147 152 145 146 148 149 150 150 150 147 152 152 153 150 153 153 153 151 149 150 147 150 149 153 152 152 151 149 152 146 147 141 137 129 122 112 109 97 82 78 81 87 87 82 73 71 84 99 106 115 136 134 148 215 248 250 249 233 235 234 234 238 239 236 239 231 213 178 124 104 92 85 78 70 71 67 67 69 68 70 76 85 99 113 120 127 134 140 145 143 147 152 153 153 152 152 154 151 151 151 152 152 153 154 153 153 152 154 155 155 156 154 156 154 153 152 154 153 152 152 153 153 151 151 150 148 147 147 143 135 129 120 112 106 92 81 78 87 89 88 77 71 75 92 106 107 123 142 129 164 225 248 249 234 237 234 235 236 237 235 236 222 191 140 102 91 84 80 71 69 73 68 66 65 69 75 90 101 113 121 130 139 141 145 145 146 146 151 151 153 155 152 152 150 157 153 155 153 156 155 155 154 153 157 156 160 155 156 155 156 156 153 159 157 156 153 155 154 153 153 152 152 147 150 144 144 137 129 117 109 103 90 81 83 88 86 84 70 70 84 95 100 107 126 144 148 186 238 250 234 233 232 232 236 236 236 233 219 158 107 90 85 83 71 66 68 69 67 69 71 74 93 105 116 123 131 138 140 145 141 148 148 148 148 154 151 149 151 149 153 151 154 151 152 155 154 153 152 157 153 159 157 159 156 155 159 155 157 156 159 154 156 156 158 157 154 155 154 152 147 147 145 146 136 129 123 108 95 84 83 87 87 86 82 71 72 82 96 101 105 132 145 148 203 240 234 234 233 233 237 235 228 225 185 114 86 83 78 74 66 65 66 66 69 72 78 99 115 123 128 134 139 140 143 144 146 147 147 151 152 152 151 153 153 153 155 155 150 153 153 153 154 153 153 153 156 157 157 159 156 158 161 160 161 165 160 157 156 159 160 158 159 157 154 152 152 150 146 144 141 137 130 123 106 92 90 91 92 90 87 76 70 73 88 96 100 117 135 140 168 218 232 234 234 236 234 228 226 213 146 89 84 78 72 65 64 60 59 69 73 84 104 121 124 132 136 138 141 145 146 146 151 150 152 150 147 148 151 155 157 156 154 154 149 152 154 155 153 153 155 152 155 158 159 158 158 159 160 162 160 165 163 160 157 161 160 157 161 159 157 153 153 147 148 145 145 139 133 136 121 100 89 82 86 86 83 80 72 71 81 90 97 109 120 130 150 192 233 232 233 233 230 222 216 179 99 80 83 76 69 63 64 60 64 69 75 99 124 125 131 134 141 142 145 145 146 149 147 152 149 149 146 150 153 149 154 155 156 152 153 149 153 155 155 154 149 155 159 165 161 161 160 161 161 160 163 158 163 159 159 156 156 158 157 159 154 157 151 150 146 147 144 141 137 135 134 114 94 84 83 85 81 81 74 70 80 88 89 103 119 123 136 170 233 235 235 231 223 221 204 138 89 89 78 67 65 60 61 65 69 74 93 119 124 128 135 141 143 146 145 144 147 147 149 148 148 147 148 148 150 151 149 153 153 154 151 149 151 156 156 154 156 156 160 161 163 161 160 162 163 162 158 157 155 158 156 157 158 159 160 156 153 152 150 147 148 149 146 144 141 141 136 129 108 95 85 83 82 84 84 72 73 81 82 91 106 117 130 146 232 233 233 232 219 217 177 109 97 89 70 62 61 57 60 62 63 78 107 127 131 135 135 144 146 147 147 149 152 150 149 148 150 147 149 146 149 153 150 152 153 154 154 152 150 157 159 158 158 157 160 157 159 156 158 161 160 162 160 159 154 155 154 158 160 160 159 156 155 152 150 151 153 150 149 147 147 143 140 136 121 106 88 81 81 81 82 76 72 77 80 82 92 106 123 133 232 233 235 229 219 195 144 107 88 75 62 59 58 59 56 51 62 92 121 132 138 139 147 148 151 148 150 152 150 153 150 152 149 153 149 152 154 153 156 155 159 156 156 150 151 156 159 162 163 163 157 158 157 161 161 163 159 159 161 155 156 153 155 156 161 162 159 157 153 154 151 153 150 152 150 151 151 145 143 136 131 112 98 85 84 81 80 79 71 77 81 80 86 96 114 122 233 233 232 227 212 168 125 94 79 68 59 56 53 56 51 57 73 103 125 138 144 152 153 155 153 154 152 154 153 152 156 154 155 153 155 157 158 160 159 162 157 156 155 158 155 154 157 156 159 159 161 159 160 159 159 163 161 161 158 160 156 157 154 157 157 157 158 154 155 152 156 150 150 154 152 150 149 150 143 141 132 123 108 95 87 83 78 79 75 74 78 81 87 88 107 116 232 233 232 223 195 152 110 80 74 71 61 53 50 48 48 59 84 111 130 146 151 153 153 155 154 154 153 154 155 155 157 159 159 156 157 158 160 164 163 160 157 156 158 160 159 160 158 156 155 157 159 157 158 157 158 162 162 161 161 159 157 159 160 160 160 161 157 155 155 154 155 152 152 151 151 150 151 152 149 143 134 127 115 109 94 83 77 77 76 71 75 79 84 83 99 112 232 230 230 210 173 134 98 77 70 66 60 49 46 46 44 58 93 120 140 153 159 156 154 150 155 153 152 152 155 162 160 164 162 164 161 163 161 165 166 159 158 153 158 158 163 164 161 160 156 156 157 160 158 164 160 162 161 160 162 156 161 163 167 163 161 163 159 159 154 155 153 158 153 152 150 151 155 152 152 147 145 128 120 120 105 80 74 75 72 70 72 76 81 81 92 104 230 230 221 191 151 112 85 77 70 62 52 47 43 41 41 63 103 128 148 158 158 155 152 154 154 155 155 156 161 162 164 162 166 166 167 163 164 167 164 164 160 159 158 163 165 168 164 159 158 154 159 161 165 162 163 161 160 162 161 162 161 168 169 167 161 159 160 161 163 157 159 156 155 152 152 152 150 153 150 152 147 137 124 120 112 90 74 72 72 71 71 72 76 83 90 97 230 226 209 183 143 94 72 73 64 57 47 41 41 40 45 76 115 139 152 158 159 156 154 155 158 160 161 162 164 164 163 167 169 164 160 164 167 169 168 167 167 167 167 167 168 169 161 157 156 157 160 163 163 164 166 163 163 161 161 163 165 170 171 170 168 165 161 163 165 165 160 157 155 153 152 150 150 152 153 151 149 138 124 119 117 100 76 69 74 69 66 70 74 79 83 96 232 222 201 172 121 73 70 70 63 52 37 40 41 33 44 90 126 146 157 160 160 158 161 159 161 161 163 163 162 163 162 165 162 159 155 164 167 168 171 167 167 165 169 168 172 168 164 162 159 162 165 168 164 167 167 168 165 165 167 164 169 169 172 171 173 174 171 169 169 173 165 162 155 154 151 147 149 151 156 152 152 141 128 123 120 104 83 72 73 71 65 66 70 75 77 93 230 217 197 154 97 66 73 68 59 46 37 38 37 33 55 98 130 150 157 158 155 159 157 162 159 161 161 161 156 156 161 159 153 141 149 156 160 164 166 168 166 169 166 172 173 169 168 165 166 164 171 167 167 165 167 165 163 166 164 166 166 167 165 171 171 176 178 170 169 166 169 164 162 157 155 152 150 153 155 157 151 144 128 126 123 108 88 73 73 71 66 67 68 74 77 88 222 208 182 135 91 70 75 66 54 44 37 38 36 29 56 106 137 149 156 157 159 158 155 154 153 150 149 146 147 148 148 148 142 137 147 154 154 158 163 163 161 164 169 170 171 170 170 167 164 167 169 172 168 164 162 162 161 162 163 164 161 157 158 163 164 173 176 172 166 169 168 166 163 161 158 154 151 154 155 157 156 147 132 128 125 111 89 74 72 71 67 67 65 70 77 88 221 201 164 116 83 70 74 64 52 44 36 35 32 30 63 113 139 150 157 155 152 144 136 130 133 133 131 132 132 133 126 122 122 129 130 133 137 145 151 150 150 152 165 168 168 164 166 167 162 164 167 170 164 159 159 161 161 161 161 160 157 154 155 151 148 155 158 163 164 169 163 162 161 161 157 155 154 149 154 157 159 148 136 129 126 108 87 74 67 69 69 64 62 67 74 84 218 189 137 101 75 68 73 59 51 42 32 31 29 33 77 119 137 148 153 148 135 127 117 114 110 112 114 114 114 116 115 103 96 94 96 97 107 122 129 134 139 151 157 163 165 167 167 164 163 159 163 160 159 155 155 152 154 156 155 159 155 150 143 137 129 133 144 149 151 149 150 150 155 154 157 159 157 156 151 155 155 154 139 130 124 110 87 69 65 67 69 67 60 62 72 82 216 171 121 97 74 72 71 58 51 41 32 32 26 36 79 124 138 137 127 115 113 106 101 101 104 104 98 92 98 100 97 95 85 77 75 74 84 104 116 121 130 148 162 161 160 162 165 163 160 162 161 159 154 151 146 142 143 145 148 143 140 133 123 114 112 117 124 127 127 129 129 129 129 133 143 152 159 161 156 150 155 152 145 130 126 110 84 67 61 64 71 69 61 60 73 83 209 157 117 92 69 72 73 60 50 38 30 30 24 40 88 123 125 121 109 99 98 100 99 96 101 99 97 99 99 98 93 84 75 73 70 70 78 94 107 112 120 134 152 156 153 151 158 157 153 156 159 159 156 146 135 137 138 141 137 130 118 115 109 99 94 95 103 110 115 121 119 115 117 122 123 128 144 157 160 154 152 149 144 131 130 109 78 61 61 69 69 69 60 59 70 80 197 145 112 85 68 73 70 58 49 42 31 28 23 42 94 116 123 120 108 100 102 112 107 100 95 93 96 99 92 88 86 81 77 74 75 73 73 79 90 98 109 126 137 149 143 143 153 153 148 147 154 154 151 132 127 133 133 135 128 115 105 100 94 88 85 91 93 102 114 116 120 119 119 115 117 118 123 146 158 156 148 149 143 136 125 103 74 55 61 69 65 66 57 56 70 79 183 137 106 80 68 69 68 55 47 41 34 31 22 49 94 113 117 116 111 106 106 106 107 104 103 103 95 88 90 89 87 86 84 79 77 80 83 84 84 92 109 117 130 139 134 138 147 153 156 152 145 147 136 121 114 123 129 127 118 102 92 88 84 77 80 94 95 91 92 103 116 124 123 126 128 127 122 125 139 144 147 143 142 135 120 98 70 57 65 69 62 66 59 56 67 77 168 126 99 79 69 68 63 53 49 43 37 28 26 56 99 108 102 109 115 116 114 111 110 112 113 113 109 103 99 99 96 93 89 86 82 84 89 89 90 92 99 108 120 125 126 134 147 153 159 157 145 135 132 126 123 127 121 115 108 95 83 80 80 79 84 89 96 97 96 107 123 130 132 138 130 122 118 120 133 135 138 141 141 130 118 95 66 56 68 70 60 63 62 56 65 78 150 118 94 73 67 68 61 56 49 44 39 27 27 60 98 106 108 110 115 121 119 119 114 115 113 114 117 119 115 110 108 105 101 94 93 93 96 97 98 100 98 106 115 124 128 138 150 157 161 159 151 135 136 134 129 123 111 104 103 100 93 96 95 96 98 100 105 107 108 113 121 122 122 121 121 118 119 124 127 135 134 136 137 127 116 95 63 57 67 68 57 57 61 58 62 72 139 105 86 72 66 64 62 56 51 45 38 29 29 65 98 110 113 118 119 119 119 118 121 119 120 118 112 108 105 102 99 97 89 84 83 89 96 98 102 104 108 110 119 124 135 146 154 159 161 158 141 135 133 127 116 111 111 112 112 109 108 108 107 106 108 112 113 114 119 123 119 120 116 117 117 123 129 125 125 131 135 131 128 122 115 94 64 60 70 61 52 54 57 57 59 71 130 99 80 73 66 64 61 53 52 49 42 28 33 71 106 112 115 117 116 117 116 117 117 105 95 95 98 96 96 97 97 97 96 91 83 77 84 93 101 106 110 112 115 124 137 151 162 164 164 162 148 133 128 119 112 114 115 118 115 112 110 109 112 115 117 118 123 121 120 121 120 123 124 122 121 127 128 125 126 126 129 130 128 124 113 90 63 58 66 55 45 53 57 55 61 73 119 94 77 71 67 61 55 54 50 47 38 28 38 74 114 120 119 119 116 118 116 102 91 94 101 102 98 90 84 86 84 83 100 112 111 97 83 84 94 105 110 114 117 130 142 155 160 161 162 163 159 140 125 115 117 118 119 116 108 103 96 93 89 97 104 111 114 117 123 124 124 121 124 120 123 124 121 127 129 123 119 120 121 122 112 92 62 54 61 52 45 48 55 55 61 74 113 88 81 72 66 61 56 52 52 48 39 30 34 87 130 134 127 122 119 113 90 88 114 111 93 87 97 86 65 65 71 67 66 80 99 108 99 89 92 100 109 111 121 132 151 154 156 157 155 158 150 139 127 124 122 120 115 109 101 89 86 91 101 104 107 111 106 98 102 112 112 117 120 122 120 120 122 126 129 122 120 122 125 118 113 93 68 59 57 49 45 49 55 56 58 68 106 87 82 71 63 60 54 52 51 48 43 27 37 95 138 135 125 120 113 89 83 109 107 81 84 128 140 89 96 96 58 90 90 74 96 100 105 103 97 101 108 114 120 139 154 157 156 153 154 154 150 135 129 129 123 116 110 101 93 92 103 113 116 107 102 102 92 88 99 102 107 109 105 107 115 118 119 125 126 125 126 127 126 123 115 94 65 56 56 43 41 46 53 54 58 70 99 88 78 67 60 59 54 51 52 48 41 24 44 104 139 135 128 118 104 96 100 92 72 85 124 166 146 77 86 96 72 84 85 83 135 125 94 104 110 111 111 115 127 149 157 158 150 150 153 156 150 134 131 126 121 113 108 101 99 107 112 109 98 95 82 74 74 78 84 84 90 97 109 108 100 111 116 115 121 126 126 124 123 123 111 96 64 51 53 41 41 47 53 54 57 72 94 85 78 65 60 58 52 49 51 48 37 29 50 116 142 142 129 118 113 112 101 92 96 111 139 168 151 83 74 81 80 85 76 91 147 145 109 92 107 118 120 117 141 156 160 155 152 149 149 156 148 138 130 127 121 114 113 110 113 111 100 110 135 110 91 88 89 88 78 99 111 94 101 116 102 93 108 114 116 120 128 128 128 120 113 94 66 54 51 39 37 48 52 54 57 71 95 84 71 62 61 59 52 49 51 46 33 24 64 125 153 147 134 122 117 121 126 131 122 120 129 152 157 116 82 81 88 88 85 114 138 127 109 95 101 121 121 128 150 164 160 155 149 146 148 153 150 139 134 128 124 123 123 118 107 98 114 163 155 96 126 93 72 125 98 90 145 130 96 86 103 97 92 113 122 125 129 129 131 129 116 95 66 51 50 37 34 47 54 49 58 72 88 82 71 59 56 56 48 50 52 44 29 25 79 140 159 150 138 129 128 131 136 138 131 122 112 113 122 123 112 107 105 110 119 126 122 114 110 109 116 124 123 137 157 165 159 155 147 142 146 150 149 141 135 128 130 131 121 107 103 106 131 164 142 86 100 86 66 94 90 88 144 156 115 84 87 97 94 105 121 124 129 131 134 134 118 97 62 48 47 34 33 45 52 51 58 69 85 77 67 57 56 54 49 48 53 43 28 37 93 156 160 153 145 143 141 139 140 140 140 131 122 111 112 113 115 116 121 128 125 122 114 116 121 125 128 128 133 144 165 167 165 152 145 144 146 149 148 146 136 133 128 132 120 106 105 109 123 148 144 97 91 89 83 90 78 95 158 159 125 98 85 93 105 104 114 123 130 132 141 134 120 95 62 52 47 34 32 41 47 52 60 65 81 75 61 53 56 53 43 44 47 41 30 45 122 161 163 155 153 153 151 149 146 146 139 135 130 127 125 124 121 119 118 115 112 107 112 113 113 118 128 135 143 157 162 170 158 152 146 148 148 147 153 144 136 134 132 132 131 129 122 120 121 132 139 120 99 100 99 87 80 131 171 153 128 113 107 102 109 118 119 123 127 135 140 140 123 95 60 48 50 36 34 42 48 47 59 66 77 69 57 52 54 52 46 46 46 41 29 64 136 164 164 160 157 157 157 155 148 146 140 136 128 122 120 123 126 126 125 124 120 118 119 116 118 131 139 143 153 159 168 177 158 151 151 152 147 149 154 144 137 139 139 133 126 129 127 121 124 126 128 131 127 122 112 105 114 131 133 126 123 127 130 125 122 123 124 127 133 145 150 145 125 96 61 49 52 37 33 40 45 47 55 59 75 66 55 50 52 47 46 46 47 41 31 86 148 168 165 163 158 163 161 156 154 151 153 146 144 141 139 141 143 142 139 135 126 123 121 128 133 143 147 153 159 159 169 168 160 152 150 147 149 153 156 152 142 146 145 140 128 124 125 121 121 120 128 125 129 129 125 122 114 111 114 129 132 137 142 144 137 132 130 134 146 150 153 144 132 96 57 47 49 39 34 37 40 47 55 56 75 66 53 50 52 48 41 43 48 37 48 108 161 168 167 163 166 166 162 155 151 153 148 149 146 148 145 144 143 142 141 134 130 129 138 142 148 147 152 162 158 158 163 167 155 151 150 148 152 157 154 147 144 141 147 145 140 129 124 130 128 128 128 133 135 137 138 138 137 137 137 138 141 142 149 147 143 141 139 144 147 152 149 147 133 98 59 47 48 39 35 34 38 45 55 60 73 63 51 51 51 42 39 44 46 37 67 140 168 168 167 166 164 164 165 160 157 156 154 151 149 146 144 142 143 145 141 138 137 143 149 154 156 156 162 164 159 156 159 159 154 148 148 151 153 155 150 145 143 144 145 147 146 137 131 128 130 134 138 143 142 141 142 143 142 143 142 140 141 148 151 149 152 154 156 155 154 155 155 148 134 97 59 52 51 40 36 38 40 45 53 60 67 60 52 50 48 39 37 44 42 39 89 155 168 167 164 167 163 165 164 164 161 158 157 152 150 145 145 145 144 143 140 144 146 157 157 160 160 162 165 163 159 152 151 151 156 151 154 149 146 144 141 139 140 146 146 148 147 146 142 137 135 134 142 149 152 148 148 144 142 142 139 140 145 154 154 156 160 163 165 164 162 158 159 150 136 99 59 50 54 41 34 38 41 44 52 54 62 55 48 46 42 38 37 39 39 43 117 162 169 165 168 166 167 162 164 162 156 158 152 151 147 147 146 150 148 145 148 150 156 159 163 162 164 164 164 161 154 154 154 157 147 153 157 157 149 140 137 135 139 143 150 148 150 149 149 147 138 140 139 143 147 156 157 154 154 150 150 150 156 157 162 160 161 167 168 167 162 163 157 151 139 102 55 49 51 41 33 37 40 42 50 57 61 53 47 44 41 37 36 40 33 57 133 165 168 168 166 167 164 163 160 160 159 154 151 147 147 146 150 153 154 156 154 159 162 162 163 167 164 163 163 157 155 162 173 162 150 148 151 155 154 151 140 137 137 147 147 147 148 151 155 150 147 144 142 142 147 153 155 157 158 159 158 159 158 160 162 163 168 169 168 164 164 161 157 151 142 104 59 49 53 44 33 35 37 40 50 56 60 55 48 43 40 35 34 38 34 74 142 165 168 170 165 167 166 164 161 164 163 157 153 150 153 153 156 155 157 159 161 163 162 166 169 169 163 164 159 157 156 164 173 161 154 148 151 152 155 153 141 137 138 147 149 152 149 152 152 152 153 152 151 146 147 149 149 155 156 156 155 158 156 162 164 167 172 169 166 164 168 163 160 150 140 103 58 49 53 44 38 39 39 40 46 55 59 53 48 40 37 37 38 38 32 82 147 163 166 165 167 164 166 164 166 163 160 158 151 156 157 159 156 159 160 161 162 160 163 162 171 164 160 155 154 154 155 164 165 158 152 159 152 155 154 147 140 136 141 142 149 149 152 154 153 156 152 156 153 155 151 150 151 151 154 155 159 158 161 161 167 170 171 169 165 166 163 165 157 152 146 112 59 48 51 41 36 40 42 41 43 53 58 50 45 39 37 36 36 35 33 95 155 167 164 164 166 164 161 163 163 160 160 161 163 162 162 161 164 160 162 164 163 163 161 169 167 162 152 146 146 149 156 164 167 153 152 155 154 154 155 151 141 140 138 138 146 152 155 158 159 155 156 158 158 154 154 149 153 157 152 157 160 163 164 165 165 167 168 168 165 162 162 162 160 149 149 120 68 47 47 42 35 33 38 44 44 50 56 49 42 37 36 37 39 35 35 100 159 168 166 167 165 163 163 165 160 162 161 161 164 166 164 163 166 166 164 163 163 161 162 166 162 155 145 145 144 151 159 164 164 155 156 155 160 156 153 151 144 140 136 138 142 149 153 159 162 160 158 161 163 159 158 154 157 156 151 154 157 160 163 167 165 165 164 163 160 157 159 160 159 149 149 129 82 55 48 39 34 36 34 39 47 53 54 47 40 36 36 36 39 33 34 99 161 166 165 165 168 160 162 162 160 160 160 162 163 165 163 168 165 167 163 162 162 159 162 158 156 149 149 153 155 159 166 170 161 163 158 161 162 159 151 152 146 139 140 137 137 140 146 153 159 162 159 162 161 163 159 158 160 161 157 153 161 159 163 164 168 164 163 162 160 162 158 160 153 147 144 137 87 58 48 41 35 35 37 34 43 53 53 44 39 35 34 36 37 32 32 102 160 166 161 164 163 162 162 164 158 161 166 164 168 168 169 167 166 161 162 161 157 158 155 153 148 156 163 168 169 171 180 167 165 161 163 163 165 163 156 155 149 142 135 136 132 138 146 153 157 156 160 159 158 157 160 159 161 164 163 165 164 167 163 167 165 163 162 159 158 156 154 153 150 140 144 141 99 64 50 39 34 32 39 38 39 49 55 43 37 35 33 37 39 28 32 102 157 164 159 158 158 160 163 159 158 163 164 164 166 166 164 162 165 165 164 163 158 155 150 146 148 152 151 159 162 162 164 167 172 168 164 166 169 169 161 155 154 148 145 145 138 134 142 153 155 158 158 156 155 155 160 163 164 167 169 167 165 164 164 168 165 161 162 157 150 151 152 152 147 142 142 140 111 70 50 40 35 32 37 40 41 48 51 40 34 36 35 38 39 24 27 102 156 161 157 151 155 155 153 146 155 159 162 165 163 164 162 163 162 166 159 158 157 152 148 144 148 133 126 138 146 145 150 158 165 170 164 168 166 166 159 150 147 144 149 148 150 140 138 148 151 157 158 161 156 159 161 166 162 167 168 166 169 166 164 163 164 162 165 157 149 151 149 149 145 140 138 141 112 73 52 42 41 36 37 38 35 45 48 36 34 36 35 39 40 28 29 104 156 159 154 156 156 153 142 144 151 154 159 164 166 160 164 162 163 158 158 158 156 152 144 146 139 120 92 80 111 138 148 150 159 160 158 155 157 160 152 138 131 136 139 138 138 142 141 143 148 151 157 159 164 162 164 162 162 163 166 168 166 171 165 163 162 167 162 155 151 147 149 144 143 136 133 132 109 74 50 43 41 38 39 39 35 35 48 36 34 35 35 41 41 28 26 102 158 157 152 151 152 148 144 147 151 156 161 164 164 163 162 163 161 160 161 157 151 148 143 140 131 115 92 60 47 89 133 145 148 146 140 140 146 149 136 122 123 125 122 119 124 134 139 141 145 154 156 161 163 162 162 162 166 165 168 165 169 168 165 163 160 161 158 156 153 150 145 144 140 131 131 127 103 73 52 45 42 38 37 40 37 33 43 38 38 37 39 43 43 28 21 104 162 154 150 146 143 144 146 145 146 149 157 162 164 168 164 164 158 159 157 151 146 146 144 134 128 121 110 87 58 29 72 130 133 130 130 135 137 130 117 111 104 76 68 92 117 129 134 137 147 154 154 162 163 166 162 165 165 167 167 164 168 166 165 156 159 157 154 153 155 152 145 144 141 131 126 120 96 73 55 46 45 38 34 39 39 36 43 36 35 35 40 42 41 30 31 109 158 152 150 150 142 145 145 141 143 148 156 159 167 162 162 159 157 155 155 148 146 152 144 135 121 120 121 115 98 78 99 127 120 112 115 115 114 109 99 71 46 48 68 94 111 128 134 140 149 154 157 156 163 162 166 166 165 166 164 166 163 162 156 156 155 155 151 148 150 150 146 141 138 126 123 113 90 69 56 49 45 41 37 36 38 36 38 34 35 34 34 38 39 30 32 115 159 150 151 151 146 142 140 140 143 152 160 160 159 160 158 157 156 157 154 151 149 148 144 136 125 114 121 126 125 128 133 132 123 109 102 104 103 101 101 91 82 87 104 115 124 127 127 140 152 156 151 154 155 161 167 166 164 163 162 160 161 159 157 155 151 152 151 150 148 145 141 137 131 124 122 109 79 59 55 61 56 41 36 36 35 35 37 35 33 33 33 36 39 31 32 119 159 149 153 149 147 141 140 142 148 155 160 162 160 161 155 155 152 155 152 150 150 148 146 142 138 122 117 126 135 128 129 133 131 119 106 114 117 112 115 118 117 120 123 122 121 116 123 138 151 156 154 155 156 162 162 167 164 164 161 161 160 156 154 148 149 149 148 147 148 146 141 139 127 124 124 102 69 56 57 67 62 47 40 41 36 33 39 36 34 32 32 33 38 32 39 126 158 149 150 148 140 143 142 144 147 154 161 167 168 161 158 150 153 149 150 153 152 151 144 136 128 121 111 111 103 97 110 125 132 125 123 125 129 124 112 111 112 117 116 110 107 116 128 139 150 156 158 156 161 162 166 166 167 162 160 161 156 155 150 150 143 141 139 143 145 142 142 133 127 125 117 84 59 53 56 66 69 56 41 43 37 34 37 35 32 30 31 35 43 35 44 127 155 151 151 146 144 142 145 143 149 155 163 170 162 161 158 158 153 157 156 157 156 144 124 109 106 104 96 87 77 82 93 113 129 132 133 140 136 121 100 90 89 93 108 113 120 127 134 139 146 153 155 159 158 162 166 165 165 160 160 160 158 154 150 146 143 139 141 142 143 143 139 133 129 124 104 74 57 51 61 75 76 60 41 40 40 31 38 34 33 29 30 40 57 52 56 120 148 152 148 145 142 141 145 145 151 156 164 164 160 160 157 154 156 165 163 155 147 127 104 94 90 84 80 77 75 80 85 99 125 142 146 146 131 108 93 79 63 75 92 101 111 122 134 140 147 153 155 156 156 162 162 166 164 161 160 161 158 153 149 144 144 143 144 143 143 144 140 134 132 124 81 63 63 52 68 78 79 67 43 36 38 33 43 38 31 25 29 38 62 59 60 125 153 152 146 145 143 144 141 147 149 156 159 158 162 156 156 159 168 160 151 141 129 113 97 88 79 77 77 75 74 75 84 96 117 137 151 142 117 101 93 85 71 73 82 88 94 111 129 143 150 156 158 156 160 157 164 163 165 162 159 159 155 154 149 146 141 143 146 146 144 140 140 134 133 118 72 63 63 57 71 81 83 67 42 37 38 34 46 38 24 24 27 36 53 57 68 128 148 143 143 144 143 140 145 145 148 156 160 159 147 143 156 162 149 139 129 123 110 101 90 76 73 74 74 71 69 74 82 93 111 134 141 131 107 92 86 83 71 68 73 78 84 97 120 137 145 153 157 162 157 157 154 157 163 164 160 154 155 154 154 146 143 144 146 146 143 142 139 134 133 105 68 74 64 64 75 78 84 69 46 40 38 34 41 30 24 25 23 34 50 61 78 129 144 140 138 141 144 142 140 144 151 158 160 151 139 147 151 137 128 115 102 97 93 83 75 72 72 70 71 69 65 74 84 89 102 118 123 116 109 97 82 75 70 62 62 70 81 92 110 122 135 146 149 152 157 160 150 154 161 161 157 155 154 150 150 151 149 147 147 144 140 142 138 131 132 97 72 77 69 74 74 74 84 70 49 41 36 33 35 29 22 24 23 30 55 69 87 126 141 142 138 140 140 144 145 149 156 161 158 148 146 142 126 117 109 90 82 81 80 74 65 67 67 64 65 67 68 74 86 92 112 127 123 110 111 103 87 75 70 63 59 63 73 86 94 104 117 125 131 142 153 152 150 145 156 159 153 154 154 153 147 150 147 145 143 144 141 138 136 132 123 84 73 79 78 81 75 79 83 67 54 42 34 34 30 29 21 17 18 31 51 68 90 123 136 138 142 136 139 144 150 153 159 156 150 146 146 127 104 102 86 73 70 76 72 66 66 62 62 62 59 61 65 74 86 108 125 127 115 113 113 109 89 73 67 64 63 57 64 68 72 83 96 106 110 127 140 154 154 149 149 156 156 151 155 154 150 148 149 146 146 144 139 140 133 129 118 81 70 74 80 88 78 82 90 70 51 38 32 35 31 30 24 16 12 17 39 64 93 128 135 138 139 137 138 143 148 153 156 157 148 153 150 113 87 81 76 66 66 71 64 57 62 64 60 60 59 62 62 69 98 124 133 126 121 120 118 108 90 79 66 61 61 61 64 64 62 66 79 89 93 97 116 142 156 150 141 151 156 154 154 152 149 151 146 148 146 139 138 133 130 128 118 89 90 97 107 117 99 98 95 67 45 35 33 32 40 40 32 23 15 13 22 48 86 125 136 134 128 131 136 140 144 151 155 157 151 160 137 98 79 70 68 63 65 67 62 61 64 63 58 58 60 66 63 70 107 127 135 131 135 135 124 105 90 75 65 64 64 69 65 63 61 59 63 71 75 78 89 108 140 149 141 146 155 155 153 153 149 152 146 146 141 140 140 131 128 124 106 92 116 132 145 140 121 110 90 57 37 39 37 32 40 38 31 25 20 16 13 12 53 129 141 131 127 129 135 135 142 145 154 149 150 149 117 86 73 69 61 61 67 69 63 59 64 64 64 61 57 62 64 72 95 117 129 140 137 129 110 97 85 68 61 63 70 71 67 64 63 63 59 60 65 70 67 83 120 144 143 147 156 155 154 151 152 150 149 146 142 139 135 133 132 127 95 95 127 140 142 138 114 96 80 47 35 48 44 34 36 31 28 26 24 21 16 2 39 127 143 135 127 125 126 138 139 142 149 148 151 144 99 73 71 68 60 57 64 67 59 56 56 61 57 52 54 56 64 81 94 97 107 119 115 100 92 86 74 62 65 73 75 76 71 69 64 65 60 58 60 59 63 71 105 140 150 149 154 157 154 152 151 147 147 148 142 134 134 132 131 124 90 111 144 144 143 132 111 101 80 36 33 46 51 38 37 36 28 20 19 19 16 8 37 119 146 144 138 131 128 130 133 140 143 149 156 138 91 72 68 65 57 52 55 58 55 52 51 51 55 53 52 57 68 88 96 102 107 112 111 102 97 86 74 70 71 71 70 77 70 70 67 68 63 60 60 56 61 69 95 132 150 148 152 155 153 152 150 146 141 139 138 139 135 129 123 106 87 119 148 145 145 133 120 104 65 28 35 53 68 55 37 33 29 20 16 15 14 5 35 129 150 140 138 142 139 134 141 136 141 149 154 123 88 70 62 60 55 52 49 47 47 45 50 57 58 56 58 65 72 74 79 88 93 98 91 82 74 78 77 75 74 73 69 65 63 66 72 71 68 68 63 59 61 67 82 115 142 151 151 154 154 147 149 145 136 131 140 142 136 129 121 103 81 117 148 147 140 137 123 91 42 28 36 51 75 72 25 21 19 17 17 16 13 5 34 119 144 134 132 143 137 133 135 140 143 152 154 115 77 65 61 57 56 57 54 50 48 54 58 62 64 67 77 89 101 107 109 108 107 100 99 96 95 91 88 85 79 76 69 64 59 59 58 62 67 70 66 67 66 57 71 100 132 149 152 153 151 146 145 144 139 141 139 137 134 132 126 107 85 111 142 140 136 134 115 58 24 28 33 48 70 85 19 18 17 18 16 17 19 11 30 111 135 132 135 136 132 131 140 146 140 148 150 110 76 64 59 59 59 59 61 58 57 66 81 89 89 91 95 100 109 118 123 127 128 125 126 124 122 113 109 102 93 84 81 78 69 71 66 63 60 57 58 68 69 57 62 85 118 144 152 152 148 144 137 136 139 141 135 134 134 130 127 104 87 111 131 134 135 120 67 25 24 29 32 46 62 83 27 24 20 18 16 16 15 7 16 93 135 136 134 132 134 134 142 137 136 143 146 113 78 63 61 64 66 69 68 76 82 85 105 121 130 127 127 127 126 121 125 133 130 132 130 133 128 127 118 114 112 106 108 108 109 104 97 83 78 72 63 63 65 60 60 77 116 143 147 149 145 136 135 136 140 134 131 133 131 127 124 102 74 87 101 108 90 53 24 26 30 29 32 39 59 78 29 31 28 22 19 17 17 11 18 86 135 134 132 134 131 140 140 139 137 140 144 121 85 69 64 68 71 81 95 102 106 117 122 130 135 140 141 141 136 133 136 137 144 144 143 139 142 141 137 137 134 137 138 134 124 118 109 101 90 86 79 71 63 61 60 73 116 142 146 144 138 136 137 135 130 131 133 134 129 129 118 93 50 22 23 29 28 24 29 30 29 31 33 35 48 68 25 26 29 30 25 23 23 14 11 73 127 133 133 132 135 141 138 138 136 137 142 128 93 74 67 71 83 91 103 115 121 126 126 126 128 134 133 131 127 122 117 120 130 131 126 126 131 135 136 136 136 138 139 135 128 124 117 111 105 101 86 71 74 73 57 71 118 138 138 138 134 135 138 132 129 135 134 130 130 131 115 81 48 23 20 24 25 27 28 30 30 31 33 34 44 57 30 26 25 31 31 28 27 24 14 55 124 137 129 130 136 132 138 137 140 139 142 133 104 82 74 80 95 109 116 122 125 128 128 125 125 122 118 116 110 102 92 88 91 90 86 89 102 113 118 122 119 118 127 129 127 122 124 120 113 102 88 85 85 75 56 80 119 129 132 139 131 128 134 132 134 129 129 129 130 125 110 73 42 26 24 28 27 26 27 28 32 36 36 35 40 53 33 32 30 26 34 35 27 29 20 33 109 137 131 135 130 132 140 144 139 138 136 132 114 111 111 106 119 121 125 128 127 128 125 125 120 113 106 101 89 85 78 74 80 77 70 67 77 89 97 103 107 110 112 125 124 125 124 115 103 102 106 100 91 74 63 95 124 123 129 132 126 132 133 139 137 136 131 130 131 127 98 56 33 28 25 28 28 25 29 34 34 37 44 41 37 45 30 29 29 27 31 37 33 28 30 28 87 136 137 136 136 141 142 139 140 140 135 133 128 124 127 132 136 132 126 125 123 125 119 111 106 96 85 78 71 62 58 62 61 57 57 59 57 65 80 96 108 116 126 130 133 130 124 123 124 127 118 105 93 77 90 113 126 125 122 124 130 133 139 141 137 135 133 128 125 116 84 40 31 28 24 23 26 30 35 38 36 34 38 46 45 44 38 31 30 28 26 33 38 29 27 24 62 126 136 131 133 137 139 140 145 141 134 137 131 125 134 140 137 138 131 127 120 119 112 103 94 82 74 66 62 53 45 46 42 35 40 53 53 50 57 72 87 104 121 125 129 128 127 126 127 127 119 108 98 104 117 130 130 126 118 124 135 129 126 127 130 130 133 128 121 110 76 35 26 24 20 20 23 28 33 35 36 40 43 45 46 50 39 35 33 32 23 26 36 32 25 23 33 101 129 130 131 138 134 138 140 136 126 125 126 128 128 123 136 137 129 118 114 104 97 93 81 72 66 62 54 46 41 44 44 41 43 49 55 52 56 67 74 88 103 118 119 123 125 130 128 126 126 123 125 128 133 133 133 130 127 133 137 133 125 126 129 131 128 123 116 104 61 28 21 19 19 22 23 27 33 34 38 39 41 44 45 47 39 33 34 36 25 21 29 34 28 23 23 63 116 128 134 140 144 146 144 139 136 133 129 126 111 118 132 127 117 111 104 93 81 70 62 56 51 45 42 42 46 46 45 45 43 50 55 54 63 70 76 84 97 108 113 119 128 128 130 131 136 141 139 138 137 134 133 137 137 138 133 128 126 129 132 130 124 117 116 93 45 22 21 20 22 24 24 25 27 28 32 36 37 41 46 50 57 37 33 35 33 26 24 30 31 25 20 32 90 125 132 139 141 143 146 144 145 138 126 112 108 120 119 117 111 105 98 89 75 64 62 55 47 44 47 47 47 47 50 52 46 50 54 55 67 73 77 82 92 102 113 122 130 132 135 140 145 147 145 141 138 137 137 140 138 138 130 117 127 132 131 127 125 121 112 69 28 17 20 21 21 23 25 24 25 28 34 36 39 41 43 48 94 50 34 35 37 30 23 25 33 29 26 24 44 101 123 135 135 141 144 148 144 138 121 107 108 111 111 100 106 107 96 80 66 62 59 52 48 51 50 47 44 54 58 51 49 54 57 53 63 71 75 79 83 101 112 126 130 136 135 135 142 146 147 140 139 135 138 139 140 138 134 133 131 129 127 127 120 119 87 39 21 18 19 19 22 23 25 27 27 33 35 34 38 45 53 58 131 71 38 34 37 34 26 24 29 28 26 23 19 48 101 122 138 142 142 144 150 141 118 105 103 106 98 102 104 102 88 61 52 51 51 50 50 48 45 41 46 58 56 47 49 57 61 60 61 62 69 79 86 98 113 119 128 135 140 144 142 138 136 138 138 138 138 139 139 139 139 138 135 130 125 122 119 99 55 25 19 21 20 18 22 24 28 29 30 35 38 40 45 44 49 57 166 121 57 33 36 36 29 25 27 29 28 26 22 15 50 103 126 135 141 142 153 139 116 106 95 98 103 105 93 87 64 50 47 46 45 47 54 50 44 45 47 50 48 41 51 62 61 64 60 52 59 70 75 89 114 121 125 132 145 148 145 136 128 135 139 141 142 141 138 140 136 133 131 126 122 113 103 62 26 22 22 21 24 21 21 24 25 29 29 32 38 42 48 55 53 53 179 167 112 44 29 35 32 24 24 31 29 27 29 16 10 64 111 129 135 146 145 128 114 106 98 105 109 88 76 68 59 46 40 41 43 44 48 47 41 47 45 42 44 46 53 61 56 58 58 50 48 56 61 75 104 129 131 138 144 149 146 135 125 131 144 145 146 141 135 133 132 130 124 119 115 108 65 24 18 20 22 24 24 22 22 25 26 29 31 32 35 41 43 48 54 56 186 183 181 104 30 31 34 27 24 29 30 28 31 20 14 51 98 116 130 139 136 113 96 86 86 98 89 77 64 51 52 47 40 38 40 41 43 41 39 43 39 38 42 45 49 55 51 50 52 48 45 44 52 56 92 128 134 132 141 146 145 143 134 137 146 150 146 140 136 131 129 126 120 111 110 89 32 17 21 20 20 24 27 25 23 23 26 28 29 32 39 45 48 52 57 60 189 188 207 172 69 31 36 30 26 31 32 30 29 19 14 56 95 102 112 133 128 90 67 73 75 76 76 70 53 46 48 44 40 39 35 34 39 43 35 36 39 37 38 42 44 43 42 43 45 46 41 40 46 48 60 112 136 131 135 140 138 139 138 142 146 148 145 138 131 128 126 121 110 107 107 79 25 14 18 19 22 25 28 30 29 29 28 30 31 34 41 48 54 61 69 78 191 184 184 192 127 44 33 27 25 28 29 27 25 17 13 58 97 104 101 120 117 93 72 62 64 67 68 59 51 46 46 45 39 35 31 33 40 46 41 38 38 38 38 38 40 37 37 40 41 39 35 36 42 44 45 97 130 131 133 135 124 126 133 136 146 143 136 132 127 124 119 110 104 112 119 78 20 17 19 20 23 26 31 30 30 32 33 29 30 34 39 49 62 70 75 90'"
            ],
            "application/vnd.google.colaboratory.intrinsic+json": {
              "type": "string"
            }
          },
          "metadata": {},
          "execution_count": 12
        }
      ]
    },
    {
      "cell_type": "markdown",
      "source": [
        "The images are stored as strings of numbers separated by a single space (' '), so we can use the `np.fromstring` function to convert it to an array then reshape it into its original size, which is (96,96)"
      ],
      "metadata": {
        "id": "rxcwUmeAxy6R"
      }
    },
    {
      "cell_type": "code",
      "source": [
        "import tqdm.notebook as tq  # For nice progress bars\n",
        "\n",
        "train_images = [np.fromstring(train_images_df.iloc[i], sep=' ').reshape(96,96) for i in tq.trange(train_images_df.size)]\n",
        "train_points_1d = [train_points_df.iloc[i].values for i in tq.trange(train_points_df.shape[0])]\n",
        "train_points = [train_points_df.iloc[i].values.reshape(15,2) for i in tq.trange(train_points_df.shape[0])]"
      ],
      "metadata": {
        "colab": {
          "base_uri": "https://localhost:8080/",
          "height": 113,
          "referenced_widgets": [
            "863a82a35b184b66ac064b48199c0135",
            "09a5deeaba624d8683a35420cd9a5625",
            "f484030cc4e94b3782c5eadaecc7ca71",
            "1fd0eac875c44a44bbd2ba4a2af81ed8",
            "9830fa8f156a4d12ab1ed77db5dade2b",
            "f1f20941958f465ea148ee631052394e",
            "1ad996f33bda45d7a9918c5264d42ec0",
            "23782b9e4d1240d6ac8ea71290f44cc8",
            "cff19a765c024376a6113f0599f1ca7c",
            "c49b3ba060e24e5984b4afa8305b8d20",
            "1a3be3224d774ca0b2d944c55296f143",
            "77ca1e47a77a4dfca5330b9d46521dc2",
            "206f26bdf40c40819cd3236a5351f96d",
            "f381a573f78c41288cf9b571f9a3ef5b",
            "ec60e6c62d9049469699b152b0db6481",
            "1eb375f9d9804b3a94e235223000cbfc",
            "5624e8f670a6430ca160f0c79abce487",
            "0aae70b47e254fca8d8e9bdfedcabc72",
            "41900de0f2d54c19bf2954f8e6b00dfd",
            "e0bac5d0959e4f3bab892632c57b4f7f",
            "1c3c88994b5b4c3db3c3135658b6e5a0",
            "7fdfd1fa8e674a5eb9ef8fe4df10b390",
            "7c29aeb9826b4d409bab7eba7edf012f",
            "625d3ed86b234433bfd0f7d1aeeb8200",
            "7295e6d1ac464185b2450feb5b548ff0",
            "633cc7618bc84ccb896b218fa5da5d23",
            "f92dae206588439d9a922921fe7e42bd",
            "e5a0cdbf13dd4fc6a9b8402c38be9aea",
            "71b65c85e6fe4c43968d6167cc59dba3",
            "500ccf56a8cf4966a9ca60151ba75e98",
            "7e4f86462981437a9e82b3d488247d1d",
            "cb00276798b9484f9a21996fcab81e7d",
            "c2bb2205a86e40629d21217c2a15c58c"
          ]
        },
        "id": "v8llMcaFLUx5",
        "outputId": "2c2ffa60-32f9-4370-af12-17f3b79b2e1e"
      },
      "execution_count": 13,
      "outputs": [
        {
          "output_type": "display_data",
          "data": {
            "text/plain": [
              "  0%|          | 0/7049 [00:00<?, ?it/s]"
            ],
            "application/vnd.jupyter.widget-view+json": {
              "version_major": 2,
              "version_minor": 0,
              "model_id": "863a82a35b184b66ac064b48199c0135"
            }
          },
          "metadata": {}
        },
        {
          "output_type": "display_data",
          "data": {
            "text/plain": [
              "  0%|          | 0/7049 [00:00<?, ?it/s]"
            ],
            "application/vnd.jupyter.widget-view+json": {
              "version_major": 2,
              "version_minor": 0,
              "model_id": "77ca1e47a77a4dfca5330b9d46521dc2"
            }
          },
          "metadata": {}
        },
        {
          "output_type": "display_data",
          "data": {
            "text/plain": [
              "  0%|          | 0/7049 [00:00<?, ?it/s]"
            ],
            "application/vnd.jupyter.widget-view+json": {
              "version_major": 2,
              "version_minor": 0,
              "model_id": "7c29aeb9826b4d409bab7eba7edf012f"
            }
          },
          "metadata": {}
        }
      ]
    },
    {
      "cell_type": "code",
      "source": [
        "# Visualizing a sample, face and features from the training data\n",
        "plt.imshow(train_images[10], cmap='gray')\n",
        "plt.plot(train_points[10][:,0], train_points[10][:,1], 'bx')\n",
        "plt.axis('off')\n",
        "plt.show()"
      ],
      "metadata": {
        "colab": {
          "base_uri": "https://localhost:8080/",
          "height": 265
        },
        "id": "KM10kD1pLapy",
        "outputId": "b58d917f-7409-4a04-8e13-5597eaad63f1"
      },
      "execution_count": 14,
      "outputs": [
        {
          "output_type": "execute_result",
          "data": {
            "text/plain": [
              "(-0.5, 95.5, 95.5, -0.5)"
            ]
          },
          "metadata": {},
          "execution_count": 14
        },
        {
          "output_type": "display_data",
          "data": {
            "text/plain": [
              "<Figure size 432x288 with 1 Axes>"
            ],
            "image/png": "[encoded data removed]"
          },
          "metadata": {
            "needs_background": "light"
          }
        }
      ]
    },
    {
      "cell_type": "code",
      "source": [
        "def show_image_and_points(img, true_points=None, pred_points=None):\n",
        "    ax = plt.imshow(img, cmap='gray')\n",
        "    if true_points is not None:\n",
        "        plt.plot(true_points[:,0], true_points[:,1], 'bx')\n",
        "    if pred_points is not None:\n",
        "        plt.plot(pred_points[:,0], pred_points[:,1], 'bx')\n",
        "    plt.axis('off')\n",
        "    plt.show()\n",
        "def show_test(i):\n",
        "    pred,_,_ = learner.predict(test_images[i])\n",
        "    show_image_and_points(test_images[i], pred_points=pred)\n",
        "def show_train(i, learner=None):\n",
        "    fully_decoded = None\n",
        "    if learner is not None:\n",
        "        fully_decoded, loss_func_decoded, probabilities = learner.predict(train_images[i])\n",
        "    show_image_and_points(train_images[i], true_points=train_points[i], pred_points=fully_decoded)"
      ],
      "metadata": {
        "id": "Lg7R8W-pLdGf"
      },
      "execution_count": 15,
      "outputs": []
    },
    {
      "cell_type": "code",
      "source": [
        "# Testing the function defined above\n",
        "show_train(10)"
      ],
      "metadata": {
        "colab": {
          "base_uri": "https://localhost:8080/",
          "height": 248
        },
        "id": "mOPGM75vLeV2",
        "outputId": "e27a877e-c2a9-4b16-a013-83dcf59b482a"
      },
      "execution_count": 16,
      "outputs": [
        {
          "output_type": "display_data",
          "data": {
            "text/plain": [
              "<Figure size 432x288 with 1 Axes>"
            ],
            "image/png": "[encoded data removed]"
          },
          "metadata": {
            "needs_background": "light"
          }
        }
      ]
    },
    {
      "cell_type": "markdown",
      "source": [
        "# Applying augmentations to the dataset"
      ],
      "metadata": {
        "id": "PGow5Y_y1yJc"
      }
    },
    {
      "cell_type": "code",
      "source": [
        "def augment(img, points, rot_deg, zoom, x_shift_px, y_shift_px):\n",
        "    size = img.shape[-2:]\n",
        "    def get_rotation(x):\n",
        "        size_ = x.new_ones(x.shape[0])\n",
        "        rot_rad = torch.ones_like(size_)*(rot_deg / 180.0 * np.pi)\n",
        "        m11 = rot_rad.cos() / zoom\n",
        "        m12 = rot_rad.sin() / zoom\n",
        "        t0 = torch.ones_like(size_)*(x_shift_px/48.0)\n",
        "        t1 = torch.ones_like(size_)*(y_shift_px/48.0)\n",
        "        return affine_mat(m11, m12, t0, -m12, m11, t1)\n",
        "    t1 = AffineCoordTfm(aff_fs=get_rotation, size=size)\n",
        "    p1 = Pipeline(funcs=t1)\n",
        "    x = TensorImage(img).view([1,1,96,96])\n",
        "    y = TensorPoint(points, img_size=[96,96]).view([1,15,2])\n",
        "    x,y = p1((x,y/48.0-1.0))\n",
        "    y = y.view([15,2])\n",
        "    coord_ok = (y[:,0] > -1.0) & (y[:,0] < 1.0) & (y[:,1] > -1.0) & (y[:,1] < 1.0)\n",
        "    coord_ok = torch.stack([coord_ok, coord_ok], dim=1)\n",
        "    y = y.where(coord_ok, tensor(np.nan))\n",
        "    y = y*48.0+48.0\n",
        "    return np.array(x.view([96,96])), np.array(y)"
      ],
      "metadata": {
        "id": "2p4FXZb1LfFN"
      },
      "execution_count": 17,
      "outputs": []
    },
    {
      "cell_type": "code",
      "source": [
        "# Testing the augmentation function\n",
        "aug_img, aug_points = augment(train_images[2], train_points[2], 10.0, 1.0, 16.0, -16.0)\n",
        "show_image_and_points(aug_img, true_points=aug_points)"
      ],
      "metadata": {
        "colab": {
          "base_uri": "https://localhost:8080/",
          "height": 248
        },
        "id": "DGVnThPrLf8d",
        "outputId": "8182e9cb-e531-4094-e92d-681876590dfa"
      },
      "execution_count": 18,
      "outputs": [
        {
          "output_type": "display_data",
          "data": {
            "text/plain": [
              "<Figure size 432x288 with 1 Axes>"
            ],
            "image/png": "[encoded data removed]"
          },
          "metadata": {
            "needs_background": "light"
          }
        }
      ]
    },
    {
      "cell_type": "code",
      "source": [
        "augs = []\n",
        "one_pixel = 2.0/96.0\n",
        "for dx in range(21):\n",
        "    for dy in range(21):\n",
        "        if dx==10 and dy==10:\n",
        "            continue\n",
        "        augs.append([0.0, 1.0, dx-10.0, dy-10.0])\n",
        "for rot_deg in range(21):\n",
        "    if rot_deg==10:\n",
        "        continue\n",
        "    augs.append([rot_deg-10, 1.0, 0.0, 0.0])\n",
        "for scale in range(21):\n",
        "    if scale==10:\n",
        "        continue\n",
        "    augs.append([0.0, 0.9 + 0.01*scale, 0.0, 0.0])\n",
        "print(len(augs))"
      ],
      "metadata": {
        "colab": {
          "base_uri": "https://localhost:8080/"
        },
        "id": "prMY9FY4LgrV",
        "outputId": "c7b26a1f-9d26-4603-878c-15962270a9f4"
      },
      "execution_count": 19,
      "outputs": [
        {
          "output_type": "stream",
          "name": "stdout",
          "text": [
            "480\n"
          ]
        }
      ]
    },
    {
      "cell_type": "code",
      "source": [
        "aug_images = []\n",
        "aug_points = []\n",
        "aug_ind = 0\n",
        "for idx in tq.trange(len(train_images)):\n",
        "    img, point = augment(train_images[idx], train_points[idx], *augs[aug_ind])\n",
        "    aug_images.append(train_images[idx])\n",
        "    aug_points.append(train_points[idx])\n",
        "    aug_images.append(img)\n",
        "    aug_points.append(point)\n",
        "    aug_ind = (aug_ind + 1) % len(augs)\n",
        "print(len(aug_images))"
      ],
      "metadata": {
        "colab": {
          "base_uri": "https://localhost:8080/",
          "height": 66,
          "referenced_widgets": [
            "ab8f70f1fac14503befc10be27aff8be",
            "19ba4c2ff9104ff3a710a232777f8f2c",
            "b4d2e4105c89419abb8f71ed4ad0028d",
            "8ee369e43d7c47baab37fd2e633c489e",
            "dd97cac5843546ea96896fed3aee9a33",
            "045b8c6733f147b9b1c07f2e3be5240d",
            "c29a8fa9b5134c94a055b63f54268dfc",
            "c43ba34c96694397bd006ddaa80d723c",
            "66f6c53c84cd471596c10458c0475457",
            "319c6da2e2604202a7256b628a91d96f",
            "c89bde9f80b74579add91998b9a00441"
          ]
        },
        "id": "zNJqjuJ2Lhov",
        "outputId": "c0f9a63b-fe17-454d-9241-4acaf63eeceb"
      },
      "execution_count": 20,
      "outputs": [
        {
          "output_type": "display_data",
          "data": {
            "text/plain": [
              "  0%|          | 0/7049 [00:00<?, ?it/s]"
            ],
            "application/vnd.jupyter.widget-view+json": {
              "version_major": 2,
              "version_minor": 0,
              "model_id": "ab8f70f1fac14503befc10be27aff8be"
            }
          },
          "metadata": {}
        },
        {
          "output_type": "stream",
          "name": "stdout",
          "text": [
            "14098\n"
          ]
        }
      ]
    },
    {
      "cell_type": "code",
      "source": [
        "train_images = aug_images\n",
        "train_points = aug_points"
      ],
      "metadata": {
        "id": "dyjMHl5hLijD"
      },
      "execution_count": 21,
      "outputs": []
    },
    {
      "cell_type": "code",
      "source": [
        "# Unaugmented image\n",
        "show_train(10)"
      ],
      "metadata": {
        "colab": {
          "base_uri": "https://localhost:8080/",
          "height": 248
        },
        "id": "WkNk5tCJLjNR",
        "outputId": "42c15086-5008-4b07-d99b-1137370b4a7c"
      },
      "execution_count": 22,
      "outputs": [
        {
          "output_type": "display_data",
          "data": {
            "text/plain": [
              "<Figure size 432x288 with 1 Axes>"
            ],
            "image/png": "[encoded data removed]"
          },
          "metadata": {
            "needs_background": "light"
          }
        }
      ]
    },
    {
      "cell_type": "code",
      "source": [
        "# Augmented image\n",
        "show_train(11)"
      ],
      "metadata": {
        "colab": {
          "base_uri": "https://localhost:8080/",
          "height": 248
        },
        "id": "wIt9Q73vLj4S",
        "outputId": "a33eed75-76c4-4550-993f-5dad4abc45b8"
      },
      "execution_count": 23,
      "outputs": [
        {
          "output_type": "display_data",
          "data": {
            "text/plain": [
              "<Figure size 432x288 with 1 Axes>"
            ],
            "image/png": "[encoded data removed]"
          },
          "metadata": {
            "needs_background": "light"
          }
        }
      ]
    },
    {
      "cell_type": "markdown",
      "source": [
        "# Defining the learner model using the cnn_learner method in `fastai` "
      ],
      "metadata": {
        "id": "8Vry5HMX14um"
      }
    },
    {
      "cell_type": "code",
      "source": [
        "# Defining the loss function class\n",
        "class MyBaseLoss():\n",
        "    \"Same as my `loss_cls`, but flattens input and target.\"\n",
        "    activation=decodes=noops\n",
        "    def __init__(self, loss_cls, *args, axis=-1, flatten=True, floatify=False, is_2d=True, **kwargs):\n",
        "        store_attr(\"axis,flatten,floatify,is_2d\")\n",
        "        self.func = loss_cls(*args,**kwargs)\n",
        "        functools.update_wrapper(self, self.func)\n",
        "\n",
        "    def __repr__(self): return f\"MyFlattenedLoss of {self.func}\"\n",
        "    @property\n",
        "    def reduction(self): return self.func.reduction\n",
        "    @reduction.setter\n",
        "    def reduction(self, v): self.func.reduction = v\n",
        "\n",
        "    def _contiguous(self,x):\n",
        "        return TensorBase(x.transpose(self.axis,-1).contiguous()) if isinstance(x,torch.Tensor) else x\n",
        "\n",
        "    def __call__(self, inp, targ, **kwargs):\n",
        "        inp,targ  = map(self._contiguous, (inp,targ))\n",
        "        if self.floatify and targ.dtype!=torch.float16: targ = targ.float()\n",
        "        if targ.dtype in [torch.int8, torch.int16, torch.int32]: targ = targ.long()\n",
        "        if self.flatten: inp = inp.view(-1,inp.shape[-1]) if self.is_2d else inp.view(-1)\n",
        "        tmptarg2 = targ.view(inp.shape)\n",
        "        tmptarg3 = torch.where(torch.isnan(tmptarg2), inp, tmptarg2)\n",
        "        tmptarg4 = tmptarg3.view(-1) if self.flatten else tmptarg3\n",
        "        return self.func.__call__(inp, tmptarg4, **kwargs)"
      ],
      "metadata": {
        "id": "RsbsFreBLk1J"
      },
      "execution_count": 24,
      "outputs": []
    },
    {
      "cell_type": "code",
      "source": [
        "@use_kwargs_dict(reduction='mean')\n",
        "def MyMSELossFlat(*args, axis=-1, floatify=True, **kwargs):\n",
        "    \"Same as MY `nn.MSELoss`, but flattens input and target.\"\n",
        "    return MyBaseLoss(nn.MSELoss, *args, axis=axis, floatify=floatify, is_2d=False, **kwargs)"
      ],
      "metadata": {
        "id": "mbqOErEBLzIW"
      },
      "execution_count": 25,
      "outputs": []
    },
    {
      "cell_type": "code",
      "source": [
        "def MySplitter(valid_pcts=0.2):\n",
        "    def _inner(item_range):\n",
        "        cut = int(len(item_range) * (1.0-valid_pcts))\n",
        "        mylist = list(item_range)\n",
        "        l1 = mylist[:cut]\n",
        "        l2 = mylist[cut:]\n",
        "        return L(l1), L(l2)\n",
        "    return _inner"
      ],
      "metadata": {
        "id": "1AmSHcOwL0gd"
      },
      "execution_count": 26,
      "outputs": []
    },
    {
      "cell_type": "code",
      "source": [
        "def get_x(ind):\n",
        "    return train_images[ind]\n",
        "def get_y(ind):\n",
        "    return train_points[ind]\n",
        "def get_items(i): return i\n",
        "db = DataBlock(blocks=[ImageBlock, PointBlock],\n",
        "               get_items=get_items,\n",
        "               get_x=get_x, get_y=get_y,\n",
        "               item_tfms=Resize([96,96]),\n",
        "               splitter=MySplitter(0.2),\n",
        "               batch_tfms=aug_transforms(size=[96,96],\n",
        "                                         mult=1.0, max_rotate=8.0, \n",
        "                                         flip_vert=False,       # Flips set to false since directions (left/right) are sensitive\n",
        "                                         do_flip=False,         # Same as above\n",
        "                                         pad_mode='border', \n",
        "                                         max_zoom=1.0, min_zoom=0.9, max_lighting=0.1, max_warp=0.0)\n",
        "              )"
      ],
      "metadata": {
        "id": "geoa4SepL1is"
      },
      "execution_count": 27,
      "outputs": []
    },
    {
      "cell_type": "code",
      "source": [
        "db.summary(range(len(train_images)))"
      ],
      "metadata": {
        "colab": {
          "base_uri": "https://localhost:8080/"
        },
        "id": "nfwqgv3hL2bC",
        "outputId": "e28482f8-ecfa-4843-f2e2-b71d532e64d9"
      },
      "execution_count": 28,
      "outputs": [
        {
          "output_type": "stream",
          "name": "stdout",
          "text": [
            "Setting-up type transforms pipelines\n",
            "Collecting items from range(0, 14098)\n",
            "Found 14098 items\n",
            "2 datasets of sizes 11278,2820\n",
            "Setting up Pipeline: get_x -> PILBase.create\n",
            "Setting up Pipeline: get_y -> TensorPoint.create\n",
            "\n",
            "Building one sample\n",
            "  Pipeline: get_x -> PILBase.create\n",
            "    starting from\n",
            "      0\n",
            "    applying get_x gives\n",
            "      [[238. 236. 237. ... 250. 250. 250.]\n",
            " [235. 238. 236. ... 249. 250. 251.]\n",
            " [237. 236. 237. ... 251. 251. 250.]\n",
            " ...\n",
            " [186. 183. 181. ...  52.  57.  60.]\n",
            " [189. 188. 207. ...  61.  69.  78.]\n",
            " [191. 184. 184. ...  70.  75.  90.]]\n",
            "    applying PILBase.create gives\n",
            "      PILImage mode=F size=96x96\n",
            "  Pipeline: get_y -> TensorPoint.create\n",
            "    starting from\n",
            "      0\n",
            "    applying get_y gives\n",
            "      [[66.03356391 39.00227368]\n",
            " [30.22700752 36.4216782 ]\n",
            " [59.58207519 39.64742256]\n",
            " [73.13034586 39.96999699]\n",
            " [36.35657143 37.3894015 ]\n",
            " [23.45287218 37.3894015 ]\n",
            " [56.95326316 29.03364812]\n",
            " [80.22712782 32.22813835]\n",
            " [40.22760902 29.0023218 ]\n",
            " [16.35637895 29.64747068]\n",
            " [44.42057143 57.06680301]\n",
            " [61.19530827 79.97016541]\n",
            " [28.61449624 77.38899248]\n",
            " [43.3126015  72.93545865]\n",
            " [43.13070677 84.48577444]]\n",
            "    applying TensorPoint.create gives\n",
            "      TensorPoint of size 15x2\n",
            "\n",
            "Final sample: (PILImage mode=F size=96x96, TensorPoint([[66.0336, 39.0023],\n",
            "        [30.2270, 36.4217],\n",
            "        [59.5821, 39.6474],\n",
            "        [73.1303, 39.9700],\n",
            "        [36.3566, 37.3894],\n",
            "        [23.4529, 37.3894],\n",
            "        [56.9533, 29.0336],\n",
            "        [80.2271, 32.2281],\n",
            "        [40.2276, 29.0023],\n",
            "        [16.3564, 29.6475],\n",
            "        [44.4206, 57.0668],\n",
            "        [61.1953, 79.9702],\n",
            "        [28.6145, 77.3890],\n",
            "        [43.3126, 72.9355],\n",
            "        [43.1307, 84.4858]]))\n",
            "\n",
            "\n",
            "Collecting items from range(0, 14098)\n",
            "Found 14098 items\n",
            "2 datasets of sizes 11278,2820\n",
            "Setting up Pipeline: get_x -> PILBase.create\n",
            "Setting up Pipeline: get_y -> TensorPoint.create\n",
            "Setting up after_item: Pipeline: PointScaler -> Resize -- {'size': (96, 96), 'method': 'crop', 'pad_mode': 'reflection', 'resamples': (2, 0), 'p': 1.0} -> ToTensor\n",
            "Setting up before_batch: Pipeline: \n",
            "Setting up after_batch: Pipeline: IntToFloatTensor -- {'div': 255.0, 'div_mask': 1} -> Rotate -- {'size': [96, 96], 'mode': 'bilinear', 'pad_mode': 'border', 'mode_mask': 'nearest', 'align_corners': True, 'p': 1.0} -> Brightness -- {'max_lighting': 0.1, 'p': 1.0, 'draw': None, 'batch': False}\n",
            "\n",
            "Building one batch\n",
            "Applying item_tfms to the first sample:\n",
            "  Pipeline: PointScaler -> Resize -- {'size': (96, 96), 'method': 'crop', 'pad_mode': 'reflection', 'resamples': (2, 0), 'p': 1.0} -> ToTensor\n",
            "    starting from\n",
            "      (PILImage mode=F size=96x96, TensorPoint of size 15x2)\n",
            "    applying PointScaler gives\n",
            "      (PILImage mode=F size=96x96, TensorPoint of size 15x2)\n",
            "    applying Resize -- {'size': (96, 96), 'method': 'crop', 'pad_mode': 'reflection', 'resamples': (2, 0), 'p': 1.0} gives\n",
            "      (PILImage mode=F size=96x96, TensorPoint of size 15x2)\n",
            "    applying ToTensor gives\n",
            "      (TensorImage of size 1x96x96, TensorPoint of size 15x2)\n",
            "\n",
            "Adding the next 3 samples\n",
            "\n",
            "No before_batch transform to apply\n",
            "\n",
            "Collating items in a batch\n",
            "\n",
            "Applying batch_tfms to the batch built\n",
            "  Pipeline: IntToFloatTensor -- {'div': 255.0, 'div_mask': 1} -> Rotate -- {'size': [96, 96], 'mode': 'bilinear', 'pad_mode': 'border', 'mode_mask': 'nearest', 'align_corners': True, 'p': 1.0} -> Brightness -- {'max_lighting': 0.1, 'p': 1.0, 'draw': None, 'batch': False}\n",
            "    starting from\n",
            "      (TensorImage of size 4x1x96x96, TensorPoint of size 4x15x2)\n",
            "    applying IntToFloatTensor -- {'div': 255.0, 'div_mask': 1} gives\n",
            "      (TensorImage of size 4x1x96x96, TensorPoint of size 4x15x2)\n",
            "    applying Rotate -- {'size': [96, 96], 'mode': 'bilinear', 'pad_mode': 'border', 'mode_mask': 'nearest', 'align_corners': True, 'p': 1.0} gives\n",
            "      (TensorImage of size 4x1x96x96, TensorPoint of size 4x15x2)\n",
            "    applying Brightness -- {'max_lighting': 0.1, 'p': 1.0, 'draw': None, 'batch': False} gives\n",
            "      (TensorImage of size 4x1x96x96, TensorPoint of size 4x15x2)\n"
          ]
        }
      ]
    },
    {
      "cell_type": "code",
      "source": [
        "dls = db.dataloaders(range(len(train_images)), bs=64)\n",
        "dls.train_ds.loss_func = MyMSELossFlat()"
      ],
      "metadata": {
        "id": "FOMA2S96L4WY"
      },
      "execution_count": 29,
      "outputs": []
    },
    {
      "cell_type": "code",
      "source": [
        "dls.show_batch(cmap='gray', unique=False)"
      ],
      "metadata": {
        "colab": {
          "base_uri": "https://localhost:8080/",
          "height": 520
        },
        "id": "gtSdj11sMMJB",
        "outputId": "b8986b21-1ab4-492f-8ba4-74d66461eca4"
      },
      "execution_count": 30,
      "outputs": [
        {
          "output_type": "display_data",
          "data": {
            "text/plain": [
              "<Figure size 648x648 with 9 Axes>"
            ],
            "image/png": "[encoded data removed]"
          },
          "metadata": {
            "needs_background": "light"
          }
        }
      ]
    },
    {
      "cell_type": "code",
      "source": [
        "learner = cnn_learner(dls, resnet18)"
      ],
      "metadata": {
        "colab": {
          "base_uri": "https://localhost:8080/",
          "height": 66,
          "referenced_widgets": [
            "3ed1d5b93f524dff816045d1994fa3bc",
            "542bc65536c74184a8060ba82f5513df",
            "0e65984c96504b6592baf456847e7d72",
            "15605febfc014f5d8efac60490396ccb",
            "78696f6eed674192b204930f9548ac6e",
            "f3343d96b9ec4f42891c08d180757f3d",
            "22387263c6dd40729cf8bf6272307f1d",
            "97ccd254fd294664beae5b04084a1846",
            "a2adb5e057934c99a4ac3d57d96baea6",
            "24e9473ff9e64134a69922767f659b1d",
            "41fdc7a4a07841dbb8ec19f4d71bc102"
          ]
        },
        "id": "aICFx_dSMOm_",
        "outputId": "f6c112d6-5a98-4340-f635-689619cdd607"
      },
      "execution_count": 31,
      "outputs": [
        {
          "output_type": "stream",
          "name": "stderr",
          "text": [
            "Downloading: \"https://download.pytorch.org/models/resnet18-f37072fd.pth\" to /root/.cache/torch/hub/checkpoints/resnet18-f37072fd.pth\n"
          ]
        },
        {
          "output_type": "display_data",
          "data": {
            "text/plain": [
              "  0%|          | 0.00/44.7M [00:00<?, ?B/s]"
            ],
            "application/vnd.jupyter.widget-view+json": {
              "version_major": 2,
              "version_minor": 0,
              "model_id": "3ed1d5b93f524dff816045d1994fa3bc"
            }
          },
          "metadata": {}
        }
      ]
    },
    {
      "cell_type": "code",
      "source": [
        "learner.summary()"
      ],
      "metadata": {
        "colab": {
          "base_uri": "https://localhost:8080/",
          "height": 1000
        },
        "id": "RgpZJo2QMTZ0",
        "outputId": "54398a03-9e81-4036-def3-b0a567817f40"
      },
      "execution_count": 32,
      "outputs": [
        {
          "output_type": "display_data",
          "data": {
            "text/plain": [
              "<IPython.core.display.HTML object>"
            ],
            "text/html": [
              "\n",
              "<style>\n",
              "    /* Turns off some styling */\n",
              "    progress {\n",
              "        /* gets rid of default border in Firefox and Opera. */\n",
              "        border: none;\n",
              "        /* Needs to be in here for Safari polyfill so background images work as expected. */\n",
              "        background-size: auto;\n",
              "    }\n",
              "    .progress-bar-interrupted, .progress-bar-interrupted::-webkit-progress-bar {\n",
              "        background: #F44336;\n",
              "    }\n",
              "</style>\n"
            ]
          },
          "metadata": {}
        },
        {
          "output_type": "display_data",
          "data": {
            "text/plain": [
              "<IPython.core.display.HTML object>"
            ],
            "text/html": [
              ""
            ]
          },
          "metadata": {}
        },
        {
          "output_type": "execute_result",
          "data": {
            "text/plain": [
              "Sequential (Input shape: 64 x 3 x 96 x 96)\n",
              "============================================================================\n",
              "Layer (type)         Output Shape         Param #    Trainable \n",
              "============================================================================\n",
              "                     64 x 64 x 48 x 48   \n",
              "Conv2d                                    9408       False     \n",
              "BatchNorm2d                               128        True      \n",
              "ReLU                                                           \n",
              "____________________________________________________________________________\n",
              "                     64 x 64 x 24 x 24   \n",
              "MaxPool2d                                                      \n",
              "Conv2d                                    36864      False     \n",
              "BatchNorm2d                               128        True      \n",
              "ReLU                                                           \n",
              "Conv2d                                    36864      False     \n",
              "BatchNorm2d                               128        True      \n",
              "Conv2d                                    36864      False     \n",
              "BatchNorm2d                               128        True      \n",
              "ReLU                                                           \n",
              "Conv2d                                    36864      False     \n",
              "BatchNorm2d                               128        True      \n",
              "____________________________________________________________________________\n",
              "                     64 x 128 x 12 x 12  \n",
              "Conv2d                                    73728      False     \n",
              "BatchNorm2d                               256        True      \n",
              "ReLU                                                           \n",
              "Conv2d                                    147456     False     \n",
              "BatchNorm2d                               256        True      \n",
              "Conv2d                                    8192       False     \n",
              "BatchNorm2d                               256        True      \n",
              "Conv2d                                    147456     False     \n",
              "BatchNorm2d                               256        True      \n",
              "ReLU                                                           \n",
              "Conv2d                                    147456     False     \n",
              "BatchNorm2d                               256        True      \n",
              "____________________________________________________________________________\n",
              "                     64 x 256 x 6 x 6    \n",
              "Conv2d                                    294912     False     \n",
              "BatchNorm2d                               512        True      \n",
              "ReLU                                                           \n",
              "Conv2d                                    589824     False     \n",
              "BatchNorm2d                               512        True      \n",
              "Conv2d                                    32768      False     \n",
              "BatchNorm2d                               512        True      \n",
              "Conv2d                                    589824     False     \n",
              "BatchNorm2d                               512        True      \n",
              "ReLU                                                           \n",
              "Conv2d                                    589824     False     \n",
              "BatchNorm2d                               512        True      \n",
              "____________________________________________________________________________\n",
              "                     64 x 512 x 3 x 3    \n",
              "Conv2d                                    1179648    False     \n",
              "BatchNorm2d                               1024       True      \n",
              "ReLU                                                           \n",
              "Conv2d                                    2359296    False     \n",
              "BatchNorm2d                               1024       True      \n",
              "Conv2d                                    131072     False     \n",
              "BatchNorm2d                               1024       True      \n",
              "Conv2d                                    2359296    False     \n",
              "BatchNorm2d                               1024       True      \n",
              "ReLU                                                           \n",
              "Conv2d                                    2359296    False     \n",
              "BatchNorm2d                               1024       True      \n",
              "____________________________________________________________________________\n",
              "                     64 x 512 x 1 x 1    \n",
              "AdaptiveAvgPool2d                                              \n",
              "AdaptiveMaxPool2d                                              \n",
              "____________________________________________________________________________\n",
              "                     64 x 1024           \n",
              "Flatten                                                        \n",
              "BatchNorm1d                               2048       True      \n",
              "Dropout                                                        \n",
              "____________________________________________________________________________\n",
              "                     64 x 512            \n",
              "Linear                                    524288     True      \n",
              "ReLU                                                           \n",
              "BatchNorm1d                               1024       True      \n",
              "Dropout                                                        \n",
              "____________________________________________________________________________\n",
              "                     64 x 30             \n",
              "Linear                                    15360      True      \n",
              "____________________________________________________________________________\n",
              "\n",
              "Total params: 11,719,232\n",
              "Total trainable params: 552,320\n",
              "Total non-trainable params: 11,166,912\n",
              "\n",
              "Optimizer used: <function Adam at 0x7fb12e297950>\n",
              "Loss function: MyFlattenedLoss of MSELoss()\n",
              "\n",
              "Model frozen up to parameter group #2\n",
              "\n",
              "Callbacks:\n",
              "  - TrainEvalCallback\n",
              "  - Recorder\n",
              "  - ProgressCallback"
            ],
            "application/vnd.google.colaboratory.intrinsic+json": {
              "type": "string"
            }
          },
          "metadata": {},
          "execution_count": 32
        }
      ]
    },
    {
      "cell_type": "code",
      "source": [
        "learner.model"
      ],
      "metadata": {
        "colab": {
          "base_uri": "https://localhost:8080/"
        },
        "id": "tn5amN2PMaFo",
        "outputId": "ac1c1100-fcd2-4a7f-a59f-d0430a033101"
      },
      "execution_count": 33,
      "outputs": [
        {
          "output_type": "execute_result",
          "data": {
            "text/plain": [
              "Sequential(\n",
              "  (0): Sequential(\n",
              "    (0): Conv2d(3, 64, kernel_size=(7, 7), stride=(2, 2), padding=(3, 3), bias=False)\n",
              "    (1): BatchNorm2d(64, eps=1e-05, momentum=0.1, affine=True, track_running_stats=True)\n",
              "    (2): ReLU(inplace=True)\n",
              "    (3): MaxPool2d(kernel_size=3, stride=2, padding=1, dilation=1, ceil_mode=False)\n",
              "    (4): Sequential(\n",
              "      (0): BasicBlock(\n",
              "        (conv1): Conv2d(64, 64, kernel_size=(3, 3), stride=(1, 1), padding=(1, 1), bias=False)\n",
              "        (bn1): BatchNorm2d(64, eps=1e-05, momentum=0.1, affine=True, track_running_stats=True)\n",
              "        (relu): ReLU(inplace=True)\n",
              "        (conv2): Conv2d(64, 64, kernel_size=(3, 3), stride=(1, 1), padding=(1, 1), bias=False)\n",
              "        (bn2): BatchNorm2d(64, eps=1e-05, momentum=0.1, affine=True, track_running_stats=True)\n",
              "      )\n",
              "      (1): BasicBlock(\n",
              "        (conv1): Conv2d(64, 64, kernel_size=(3, 3), stride=(1, 1), padding=(1, 1), bias=False)\n",
              "        (bn1): BatchNorm2d(64, eps=1e-05, momentum=0.1, affine=True, track_running_stats=True)\n",
              "        (relu): ReLU(inplace=True)\n",
              "        (conv2): Conv2d(64, 64, kernel_size=(3, 3), stride=(1, 1), padding=(1, 1), bias=False)\n",
              "        (bn2): BatchNorm2d(64, eps=1e-05, momentum=0.1, affine=True, track_running_stats=True)\n",
              "      )\n",
              "    )\n",
              "    (5): Sequential(\n",
              "      (0): BasicBlock(\n",
              "        (conv1): Conv2d(64, 128, kernel_size=(3, 3), stride=(2, 2), padding=(1, 1), bias=False)\n",
              "        (bn1): BatchNorm2d(128, eps=1e-05, momentum=0.1, affine=True, track_running_stats=True)\n",
              "        (relu): ReLU(inplace=True)\n",
              "        (conv2): Conv2d(128, 128, kernel_size=(3, 3), stride=(1, 1), padding=(1, 1), bias=False)\n",
              "        (bn2): BatchNorm2d(128, eps=1e-05, momentum=0.1, affine=True, track_running_stats=True)\n",
              "        (downsample): Sequential(\n",
              "          (0): Conv2d(64, 128, kernel_size=(1, 1), stride=(2, 2), bias=False)\n",
              "          (1): BatchNorm2d(128, eps=1e-05, momentum=0.1, affine=True, track_running_stats=True)\n",
              "        )\n",
              "      )\n",
              "      (1): BasicBlock(\n",
              "        (conv1): Conv2d(128, 128, kernel_size=(3, 3), stride=(1, 1), padding=(1, 1), bias=False)\n",
              "        (bn1): BatchNorm2d(128, eps=1e-05, momentum=0.1, affine=True, track_running_stats=True)\n",
              "        (relu): ReLU(inplace=True)\n",
              "        (conv2): Conv2d(128, 128, kernel_size=(3, 3), stride=(1, 1), padding=(1, 1), bias=False)\n",
              "        (bn2): BatchNorm2d(128, eps=1e-05, momentum=0.1, affine=True, track_running_stats=True)\n",
              "      )\n",
              "    )\n",
              "    (6): Sequential(\n",
              "      (0): BasicBlock(\n",
              "        (conv1): Conv2d(128, 256, kernel_size=(3, 3), stride=(2, 2), padding=(1, 1), bias=False)\n",
              "        (bn1): BatchNorm2d(256, eps=1e-05, momentum=0.1, affine=True, track_running_stats=True)\n",
              "        (relu): ReLU(inplace=True)\n",
              "        (conv2): Conv2d(256, 256, kernel_size=(3, 3), stride=(1, 1), padding=(1, 1), bias=False)\n",
              "        (bn2): BatchNorm2d(256, eps=1e-05, momentum=0.1, affine=True, track_running_stats=True)\n",
              "        (downsample): Sequential(\n",
              "          (0): Conv2d(128, 256, kernel_size=(1, 1), stride=(2, 2), bias=False)\n",
              "          (1): BatchNorm2d(256, eps=1e-05, momentum=0.1, affine=True, track_running_stats=True)\n",
              "        )\n",
              "      )\n",
              "      (1): BasicBlock(\n",
              "        (conv1): Conv2d(256, 256, kernel_size=(3, 3), stride=(1, 1), padding=(1, 1), bias=False)\n",
              "        (bn1): BatchNorm2d(256, eps=1e-05, momentum=0.1, affine=True, track_running_stats=True)\n",
              "        (relu): ReLU(inplace=True)\n",
              "        (conv2): Conv2d(256, 256, kernel_size=(3, 3), stride=(1, 1), padding=(1, 1), bias=False)\n",
              "        (bn2): BatchNorm2d(256, eps=1e-05, momentum=0.1, affine=True, track_running_stats=True)\n",
              "      )\n",
              "    )\n",
              "    (7): Sequential(\n",
              "      (0): BasicBlock(\n",
              "        (conv1): Conv2d(256, 512, kernel_size=(3, 3), stride=(2, 2), padding=(1, 1), bias=False)\n",
              "        (bn1): BatchNorm2d(512, eps=1e-05, momentum=0.1, affine=True, track_running_stats=True)\n",
              "        (relu): ReLU(inplace=True)\n",
              "        (conv2): Conv2d(512, 512, kernel_size=(3, 3), stride=(1, 1), padding=(1, 1), bias=False)\n",
              "        (bn2): BatchNorm2d(512, eps=1e-05, momentum=0.1, affine=True, track_running_stats=True)\n",
              "        (downsample): Sequential(\n",
              "          (0): Conv2d(256, 512, kernel_size=(1, 1), stride=(2, 2), bias=False)\n",
              "          (1): BatchNorm2d(512, eps=1e-05, momentum=0.1, affine=True, track_running_stats=True)\n",
              "        )\n",
              "      )\n",
              "      (1): BasicBlock(\n",
              "        (conv1): Conv2d(512, 512, kernel_size=(3, 3), stride=(1, 1), padding=(1, 1), bias=False)\n",
              "        (bn1): BatchNorm2d(512, eps=1e-05, momentum=0.1, affine=True, track_running_stats=True)\n",
              "        (relu): ReLU(inplace=True)\n",
              "        (conv2): Conv2d(512, 512, kernel_size=(3, 3), stride=(1, 1), padding=(1, 1), bias=False)\n",
              "        (bn2): BatchNorm2d(512, eps=1e-05, momentum=0.1, affine=True, track_running_stats=True)\n",
              "      )\n",
              "    )\n",
              "  )\n",
              "  (1): Sequential(\n",
              "    (0): AdaptiveConcatPool2d(\n",
              "      (ap): AdaptiveAvgPool2d(output_size=1)\n",
              "      (mp): AdaptiveMaxPool2d(output_size=1)\n",
              "    )\n",
              "    (1): Flatten(full=False)\n",
              "    (2): BatchNorm1d(1024, eps=1e-05, momentum=0.1, affine=True, track_running_stats=True)\n",
              "    (3): Dropout(p=0.25, inplace=False)\n",
              "    (4): Linear(in_features=1024, out_features=512, bias=False)\n",
              "    (5): ReLU(inplace=True)\n",
              "    (6): BatchNorm1d(512, eps=1e-05, momentum=0.1, affine=True, track_running_stats=True)\n",
              "    (7): Dropout(p=0.5, inplace=False)\n",
              "    (8): Linear(in_features=512, out_features=30, bias=False)\n",
              "  )\n",
              ")"
            ]
          },
          "metadata": {},
          "execution_count": 33
        }
      ]
    },
    {
      "cell_type": "code",
      "source": [
        "learner.lr_find()"
      ],
      "metadata": {
        "colab": {
          "base_uri": "https://localhost:8080/",
          "height": 300
        },
        "id": "DNE1fb4eMfBs",
        "outputId": "8c3c54a1-7d54-4e4b-a339-c2bb38f63064"
      },
      "execution_count": 34,
      "outputs": [
        {
          "output_type": "display_data",
          "data": {
            "text/plain": [
              "<IPython.core.display.HTML object>"
            ],
            "text/html": [
              "\n",
              "<style>\n",
              "    /* Turns off some styling */\n",
              "    progress {\n",
              "        /* gets rid of default border in Firefox and Opera. */\n",
              "        border: none;\n",
              "        /* Needs to be in here for Safari polyfill so background images work as expected. */\n",
              "        background-size: auto;\n",
              "    }\n",
              "    .progress-bar-interrupted, .progress-bar-interrupted::-webkit-progress-bar {\n",
              "        background: #F44336;\n",
              "    }\n",
              "</style>\n"
            ]
          },
          "metadata": {}
        },
        {
          "output_type": "display_data",
          "data": {
            "text/plain": [
              "<IPython.core.display.HTML object>"
            ],
            "text/html": [
              ""
            ]
          },
          "metadata": {}
        },
        {
          "output_type": "execute_result",
          "data": {
            "text/plain": [
              "SuggestedLRs(valley=0.0008317637839354575)"
            ]
          },
          "metadata": {},
          "execution_count": 34
        },
        {
          "output_type": "display_data",
          "data": {
            "text/plain": [
              "<Figure size 432x288 with 1 Axes>"
            ],
            "image/png": "[encoded data removed]"
          },
          "metadata": {
            "needs_background": "light"
          }
        }
      ]
    },
    {
      "cell_type": "code",
      "source": [
        "print('Fitting model using lr = 1e-3')\n",
        "learner.fit_one_cycle(15, lr_max=1e-3)"
      ],
      "metadata": {
        "colab": {
          "base_uri": "https://localhost:8080/",
          "height": 537
        },
        "id": "7WtrDlHZMh1a",
        "outputId": "878ac90c-2f1b-4586-9048-79f285b0a6c3"
      },
      "execution_count": 35,
      "outputs": [
        {
          "output_type": "stream",
          "name": "stdout",
          "text": [
            "Fitting model using lr = 1e-3\n"
          ]
        },
        {
          "output_type": "display_data",
          "data": {
            "text/plain": [
              "<IPython.core.display.HTML object>"
            ],
            "text/html": [
              "\n",
              "<style>\n",
              "    /* Turns off some styling */\n",
              "    progress {\n",
              "        /* gets rid of default border in Firefox and Opera. */\n",
              "        border: none;\n",
              "        /* Needs to be in here for Safari polyfill so background images work as expected. */\n",
              "        background-size: auto;\n",
              "    }\n",
              "    .progress-bar-interrupted, .progress-bar-interrupted::-webkit-progress-bar {\n",
              "        background: #F44336;\n",
              "    }\n",
              "</style>\n"
            ]
          },
          "metadata": {}
        },
        {
          "output_type": "display_data",
          "data": {
            "text/plain": [
              "<IPython.core.display.HTML object>"
            ],
            "text/html": [
              "<table border=\"1\" class=\"dataframe\">\n",
              "  <thead>\n",
              "    <tr style=\"text-align: left;\">\n",
              "      <th>epoch</th>\n",
              "      <th>train_loss</th>\n",
              "      <th>valid_loss</th>\n",
              "      <th>time</th>\n",
              "    </tr>\n",
              "  </thead>\n",
              "  <tbody>\n",
              "    <tr>\n",
              "      <td>0</td>\n",
              "      <td>1.900235</td>\n",
              "      <td>0.232260</td>\n",
              "      <td>00:50</td>\n",
              "    </tr>\n",
              "    <tr>\n",
              "      <td>1</td>\n",
              "      <td>0.998811</td>\n",
              "      <td>0.088872</td>\n",
              "      <td>00:49</td>\n",
              "    </tr>\n",
              "    <tr>\n",
              "      <td>2</td>\n",
              "      <td>0.286670</td>\n",
              "      <td>0.022246</td>\n",
              "      <td>01:03</td>\n",
              "    </tr>\n",
              "    <tr>\n",
              "      <td>3</td>\n",
              "      <td>0.075733</td>\n",
              "      <td>0.008699</td>\n",
              "      <td>01:06</td>\n",
              "    </tr>\n",
              "    <tr>\n",
              "      <td>4</td>\n",
              "      <td>0.030188</td>\n",
              "      <td>0.006032</td>\n",
              "      <td>00:49</td>\n",
              "    </tr>\n",
              "    <tr>\n",
              "      <td>5</td>\n",
              "      <td>0.017136</td>\n",
              "      <td>0.007991</td>\n",
              "      <td>00:52</td>\n",
              "    </tr>\n",
              "    <tr>\n",
              "      <td>6</td>\n",
              "      <td>0.014138</td>\n",
              "      <td>0.005225</td>\n",
              "      <td>00:52</td>\n",
              "    </tr>\n",
              "    <tr>\n",
              "      <td>7</td>\n",
              "      <td>0.012521</td>\n",
              "      <td>0.004506</td>\n",
              "      <td>00:50</td>\n",
              "    </tr>\n",
              "    <tr>\n",
              "      <td>8</td>\n",
              "      <td>0.009662</td>\n",
              "      <td>0.003977</td>\n",
              "      <td>00:49</td>\n",
              "    </tr>\n",
              "    <tr>\n",
              "      <td>9</td>\n",
              "      <td>0.008860</td>\n",
              "      <td>0.003725</td>\n",
              "      <td>00:49</td>\n",
              "    </tr>\n",
              "    <tr>\n",
              "      <td>10</td>\n",
              "      <td>0.007164</td>\n",
              "      <td>0.003207</td>\n",
              "      <td>00:49</td>\n",
              "    </tr>\n",
              "    <tr>\n",
              "      <td>11</td>\n",
              "      <td>0.006697</td>\n",
              "      <td>0.003259</td>\n",
              "      <td>00:52</td>\n",
              "    </tr>\n",
              "    <tr>\n",
              "      <td>12</td>\n",
              "      <td>0.005933</td>\n",
              "      <td>0.002833</td>\n",
              "      <td>00:51</td>\n",
              "    </tr>\n",
              "    <tr>\n",
              "      <td>13</td>\n",
              "      <td>0.005922</td>\n",
              "      <td>0.002691</td>\n",
              "      <td>00:50</td>\n",
              "    </tr>\n",
              "    <tr>\n",
              "      <td>14</td>\n",
              "      <td>0.005880</td>\n",
              "      <td>0.002696</td>\n",
              "      <td>00:49</td>\n",
              "    </tr>\n",
              "  </tbody>\n",
              "</table>"
            ]
          },
          "metadata": {}
        }
      ]
    },
    {
      "cell_type": "code",
      "source": [
        "learner.recorder.plot_loss()"
      ],
      "metadata": {
        "colab": {
          "base_uri": "https://localhost:8080/",
          "height": 265
        },
        "id": "2LbamKsWNfmW",
        "outputId": "afe26e80-a7ea-4e8c-dc36-52930db2a76b"
      },
      "execution_count": 36,
      "outputs": [
        {
          "output_type": "display_data",
          "data": {
            "text/plain": [
              "<Figure size 432x288 with 1 Axes>"
            ],
            "image/png": "[encoded data removed]"
          },
          "metadata": {
            "needs_background": "light"
          }
        }
      ]
    },
    {
      "cell_type": "code",
      "source": [
        "# Visualizing a few images along with the model predictions\n",
        "learner.show_results(ds_idx=0, shuffle=True, nrows=2, ncols=2)"
      ],
      "metadata": {
        "colab": {
          "base_uri": "https://localhost:8080/",
          "height": 399
        },
        "id": "hC1pBdHKUTW2",
        "outputId": "75695fe1-d5a8-4059-c687-73642cd999f1"
      },
      "execution_count": 38,
      "outputs": [
        {
          "output_type": "display_data",
          "data": {
            "text/plain": [
              "<IPython.core.display.HTML object>"
            ],
            "text/html": [
              "\n",
              "<style>\n",
              "    /* Turns off some styling */\n",
              "    progress {\n",
              "        /* gets rid of default border in Firefox and Opera. */\n",
              "        border: none;\n",
              "        /* Needs to be in here for Safari polyfill so background images work as expected. */\n",
              "        background-size: auto;\n",
              "    }\n",
              "    .progress-bar-interrupted, .progress-bar-interrupted::-webkit-progress-bar {\n",
              "        background: #F44336;\n",
              "    }\n",
              "</style>\n"
            ]
          },
          "metadata": {}
        },
        {
          "output_type": "display_data",
          "data": {
            "text/plain": [
              "<IPython.core.display.HTML object>"
            ],
            "text/html": [
              ""
            ]
          },
          "metadata": {}
        },
        {
          "output_type": "display_data",
          "data": {
            "text/plain": [
              "<Figure size 864x432 with 8 Axes>"
            ],
            "image/png": "[encoded data removed]"
          },
          "metadata": {
            "needs_background": "light"
          }
        }
      ]
    },
    {
      "cell_type": "code",
      "source": [
        "learner.fine_tune(100)"
      ],
      "metadata": {
        "colab": {
          "base_uri": "https://localhost:8080/",
          "height": 1000
        },
        "id": "QZcxvqgNWHJI",
        "outputId": "b37165a0-d1cd-477f-ce1b-77e1b7e4fe80"
      },
      "execution_count": 39,
      "outputs": [
        {
          "output_type": "display_data",
          "data": {
            "text/plain": [
              "<IPython.core.display.HTML object>"
            ],
            "text/html": [
              "\n",
              "<style>\n",
              "    /* Turns off some styling */\n",
              "    progress {\n",
              "        /* gets rid of default border in Firefox and Opera. */\n",
              "        border: none;\n",
              "        /* Needs to be in here for Safari polyfill so background images work as expected. */\n",
              "        background-size: auto;\n",
              "    }\n",
              "    .progress-bar-interrupted, .progress-bar-interrupted::-webkit-progress-bar {\n",
              "        background: #F44336;\n",
              "    }\n",
              "</style>\n"
            ]
          },
          "metadata": {}
        },
        {
          "output_type": "display_data",
          "data": {
            "text/plain": [
              "<IPython.core.display.HTML object>"
            ],
            "text/html": [
              "<table border=\"1\" class=\"dataframe\">\n",
              "  <thead>\n",
              "    <tr style=\"text-align: left;\">\n",
              "      <th>epoch</th>\n",
              "      <th>train_loss</th>\n",
              "      <th>valid_loss</th>\n",
              "      <th>time</th>\n",
              "    </tr>\n",
              "  </thead>\n",
              "  <tbody>\n",
              "    <tr>\n",
              "      <td>0</td>\n",
              "      <td>0.014606</td>\n",
              "      <td>0.011498</td>\n",
              "      <td>00:51</td>\n",
              "    </tr>\n",
              "  </tbody>\n",
              "</table>"
            ]
          },
          "metadata": {}
        },
        {
          "output_type": "display_data",
          "data": {
            "text/plain": [
              "<IPython.core.display.HTML object>"
            ],
            "text/html": [
              "\n",
              "<style>\n",
              "    /* Turns off some styling */\n",
              "    progress {\n",
              "        /* gets rid of default border in Firefox and Opera. */\n",
              "        border: none;\n",
              "        /* Needs to be in here for Safari polyfill so background images work as expected. */\n",
              "        background-size: auto;\n",
              "    }\n",
              "    .progress-bar-interrupted, .progress-bar-interrupted::-webkit-progress-bar {\n",
              "        background: #F44336;\n",
              "    }\n",
              "</style>\n"
            ]
          },
          "metadata": {}
        },
        {
          "output_type": "display_data",
          "data": {
            "text/plain": [
              "<IPython.core.display.HTML object>"
            ],
            "text/html": [
              "<table border=\"1\" class=\"dataframe\">\n",
              "  <thead>\n",
              "    <tr style=\"text-align: left;\">\n",
              "      <th>epoch</th>\n",
              "      <th>train_loss</th>\n",
              "      <th>valid_loss</th>\n",
              "      <th>time</th>\n",
              "    </tr>\n",
              "  </thead>\n",
              "  <tbody>\n",
              "    <tr>\n",
              "      <td>0</td>\n",
              "      <td>0.009538</td>\n",
              "      <td>0.002866</td>\n",
              "      <td>00:54</td>\n",
              "    </tr>\n",
              "    <tr>\n",
              "      <td>1</td>\n",
              "      <td>0.007303</td>\n",
              "      <td>0.002656</td>\n",
              "      <td>00:51</td>\n",
              "    </tr>\n",
              "    <tr>\n",
              "      <td>2</td>\n",
              "      <td>0.005642</td>\n",
              "      <td>0.002060</td>\n",
              "      <td>00:51</td>\n",
              "    </tr>\n",
              "    <tr>\n",
              "      <td>3</td>\n",
              "      <td>0.004654</td>\n",
              "      <td>0.001749</td>\n",
              "      <td>00:51</td>\n",
              "    </tr>\n",
              "    <tr>\n",
              "      <td>4</td>\n",
              "      <td>0.004053</td>\n",
              "      <td>0.001692</td>\n",
              "      <td>00:51</td>\n",
              "    </tr>\n",
              "    <tr>\n",
              "      <td>5</td>\n",
              "      <td>0.003800</td>\n",
              "      <td>0.001779</td>\n",
              "      <td>00:57</td>\n",
              "    </tr>\n",
              "    <tr>\n",
              "      <td>6</td>\n",
              "      <td>0.003545</td>\n",
              "      <td>0.001345</td>\n",
              "      <td>00:51</td>\n",
              "    </tr>\n",
              "    <tr>\n",
              "      <td>7</td>\n",
              "      <td>0.003450</td>\n",
              "      <td>0.001335</td>\n",
              "      <td>00:51</td>\n",
              "    </tr>\n",
              "    <tr>\n",
              "      <td>8</td>\n",
              "      <td>0.003322</td>\n",
              "      <td>0.001452</td>\n",
              "      <td>00:51</td>\n",
              "    </tr>\n",
              "    <tr>\n",
              "      <td>9</td>\n",
              "      <td>0.003281</td>\n",
              "      <td>0.001691</td>\n",
              "      <td>00:51</td>\n",
              "    </tr>\n",
              "    <tr>\n",
              "      <td>10</td>\n",
              "      <td>0.003123</td>\n",
              "      <td>0.001206</td>\n",
              "      <td>00:51</td>\n",
              "    </tr>\n",
              "    <tr>\n",
              "      <td>11</td>\n",
              "      <td>0.003378</td>\n",
              "      <td>0.001348</td>\n",
              "      <td>00:51</td>\n",
              "    </tr>\n",
              "    <tr>\n",
              "      <td>12</td>\n",
              "      <td>0.003224</td>\n",
              "      <td>0.001821</td>\n",
              "      <td>00:50</td>\n",
              "    </tr>\n",
              "    <tr>\n",
              "      <td>13</td>\n",
              "      <td>0.003242</td>\n",
              "      <td>0.001366</td>\n",
              "      <td>00:50</td>\n",
              "    </tr>\n",
              "    <tr>\n",
              "      <td>14</td>\n",
              "      <td>0.003217</td>\n",
              "      <td>0.001216</td>\n",
              "      <td>00:51</td>\n",
              "    </tr>\n",
              "    <tr>\n",
              "      <td>15</td>\n",
              "      <td>0.003337</td>\n",
              "      <td>0.001236</td>\n",
              "      <td>00:51</td>\n",
              "    </tr>\n",
              "    <tr>\n",
              "      <td>16</td>\n",
              "      <td>0.003232</td>\n",
              "      <td>0.001124</td>\n",
              "      <td>00:51</td>\n",
              "    </tr>\n",
              "    <tr>\n",
              "      <td>17</td>\n",
              "      <td>0.003149</td>\n",
              "      <td>0.001743</td>\n",
              "      <td>00:51</td>\n",
              "    </tr>\n",
              "    <tr>\n",
              "      <td>18</td>\n",
              "      <td>0.003227</td>\n",
              "      <td>0.001592</td>\n",
              "      <td>00:51</td>\n",
              "    </tr>\n",
              "    <tr>\n",
              "      <td>19</td>\n",
              "      <td>0.003257</td>\n",
              "      <td>0.001322</td>\n",
              "      <td>00:51</td>\n",
              "    </tr>\n",
              "    <tr>\n",
              "      <td>20</td>\n",
              "      <td>0.003212</td>\n",
              "      <td>0.001612</td>\n",
              "      <td>00:51</td>\n",
              "    </tr>\n",
              "    <tr>\n",
              "      <td>21</td>\n",
              "      <td>0.003066</td>\n",
              "      <td>0.001476</td>\n",
              "      <td>00:51</td>\n",
              "    </tr>\n",
              "    <tr>\n",
              "      <td>22</td>\n",
              "      <td>0.003351</td>\n",
              "      <td>0.001822</td>\n",
              "      <td>00:51</td>\n",
              "    </tr>\n",
              "    <tr>\n",
              "      <td>23</td>\n",
              "      <td>0.003036</td>\n",
              "      <td>0.001419</td>\n",
              "      <td>00:51</td>\n",
              "    </tr>\n",
              "    <tr>\n",
              "      <td>24</td>\n",
              "      <td>0.002869</td>\n",
              "      <td>0.001552</td>\n",
              "      <td>00:51</td>\n",
              "    </tr>\n",
              "    <tr>\n",
              "      <td>25</td>\n",
              "      <td>0.003099</td>\n",
              "      <td>0.001456</td>\n",
              "      <td>00:51</td>\n",
              "    </tr>\n",
              "    <tr>\n",
              "      <td>26</td>\n",
              "      <td>0.002517</td>\n",
              "      <td>0.001230</td>\n",
              "      <td>00:51</td>\n",
              "    </tr>\n",
              "    <tr>\n",
              "      <td>27</td>\n",
              "      <td>0.002639</td>\n",
              "      <td>0.001059</td>\n",
              "      <td>00:51</td>\n",
              "    </tr>\n",
              "    <tr>\n",
              "      <td>28</td>\n",
              "      <td>0.002592</td>\n",
              "      <td>0.001511</td>\n",
              "      <td>00:51</td>\n",
              "    </tr>\n",
              "    <tr>\n",
              "      <td>29</td>\n",
              "      <td>0.002386</td>\n",
              "      <td>0.000994</td>\n",
              "      <td>00:51</td>\n",
              "    </tr>\n",
              "    <tr>\n",
              "      <td>30</td>\n",
              "      <td>0.002326</td>\n",
              "      <td>0.000960</td>\n",
              "      <td>00:51</td>\n",
              "    </tr>\n",
              "    <tr>\n",
              "      <td>31</td>\n",
              "      <td>0.002259</td>\n",
              "      <td>0.000819</td>\n",
              "      <td>00:51</td>\n",
              "    </tr>\n",
              "    <tr>\n",
              "      <td>32</td>\n",
              "      <td>0.002165</td>\n",
              "      <td>0.000885</td>\n",
              "      <td>00:51</td>\n",
              "    </tr>\n",
              "    <tr>\n",
              "      <td>33</td>\n",
              "      <td>0.002057</td>\n",
              "      <td>0.000957</td>\n",
              "      <td>00:51</td>\n",
              "    </tr>\n",
              "    <tr>\n",
              "      <td>34</td>\n",
              "      <td>0.001964</td>\n",
              "      <td>0.001323</td>\n",
              "      <td>00:51</td>\n",
              "    </tr>\n",
              "    <tr>\n",
              "      <td>35</td>\n",
              "      <td>0.001981</td>\n",
              "      <td>0.001029</td>\n",
              "      <td>00:51</td>\n",
              "    </tr>\n",
              "    <tr>\n",
              "      <td>36</td>\n",
              "      <td>0.001939</td>\n",
              "      <td>0.000919</td>\n",
              "      <td>00:51</td>\n",
              "    </tr>\n",
              "    <tr>\n",
              "      <td>37</td>\n",
              "      <td>0.001856</td>\n",
              "      <td>0.000808</td>\n",
              "      <td>00:51</td>\n",
              "    </tr>\n",
              "    <tr>\n",
              "      <td>38</td>\n",
              "      <td>0.001830</td>\n",
              "      <td>0.000709</td>\n",
              "      <td>00:58</td>\n",
              "    </tr>\n",
              "    <tr>\n",
              "      <td>39</td>\n",
              "      <td>0.001787</td>\n",
              "      <td>0.000757</td>\n",
              "      <td>01:05</td>\n",
              "    </tr>\n",
              "    <tr>\n",
              "      <td>40</td>\n",
              "      <td>0.001806</td>\n",
              "      <td>0.000908</td>\n",
              "      <td>00:52</td>\n",
              "    </tr>\n",
              "    <tr>\n",
              "      <td>41</td>\n",
              "      <td>0.001691</td>\n",
              "      <td>0.000839</td>\n",
              "      <td>00:52</td>\n",
              "    </tr>\n",
              "    <tr>\n",
              "      <td>42</td>\n",
              "      <td>0.001602</td>\n",
              "      <td>0.000700</td>\n",
              "      <td>00:52</td>\n",
              "    </tr>\n",
              "    <tr>\n",
              "      <td>43</td>\n",
              "      <td>0.001594</td>\n",
              "      <td>0.000658</td>\n",
              "      <td>00:52</td>\n",
              "    </tr>\n",
              "    <tr>\n",
              "      <td>44</td>\n",
              "      <td>0.001616</td>\n",
              "      <td>0.000762</td>\n",
              "      <td>00:57</td>\n",
              "    </tr>\n",
              "    <tr>\n",
              "      <td>45</td>\n",
              "      <td>0.001588</td>\n",
              "      <td>0.000766</td>\n",
              "      <td>00:53</td>\n",
              "    </tr>\n",
              "    <tr>\n",
              "      <td>46</td>\n",
              "      <td>0.001525</td>\n",
              "      <td>0.000691</td>\n",
              "      <td>00:52</td>\n",
              "    </tr>\n",
              "    <tr>\n",
              "      <td>47</td>\n",
              "      <td>0.001464</td>\n",
              "      <td>0.000745</td>\n",
              "      <td>00:52</td>\n",
              "    </tr>\n",
              "    <tr>\n",
              "      <td>48</td>\n",
              "      <td>0.001533</td>\n",
              "      <td>0.000627</td>\n",
              "      <td>01:03</td>\n",
              "    </tr>\n",
              "    <tr>\n",
              "      <td>49</td>\n",
              "      <td>0.001486</td>\n",
              "      <td>0.000642</td>\n",
              "      <td>01:16</td>\n",
              "    </tr>\n",
              "    <tr>\n",
              "      <td>50</td>\n",
              "      <td>0.001439</td>\n",
              "      <td>0.000698</td>\n",
              "      <td>00:57</td>\n",
              "    </tr>\n",
              "    <tr>\n",
              "      <td>51</td>\n",
              "      <td>0.001407</td>\n",
              "      <td>0.000600</td>\n",
              "      <td>00:52</td>\n",
              "    </tr>\n",
              "    <tr>\n",
              "      <td>52</td>\n",
              "      <td>0.001504</td>\n",
              "      <td>0.000620</td>\n",
              "      <td>00:52</td>\n",
              "    </tr>\n",
              "    <tr>\n",
              "      <td>53</td>\n",
              "      <td>0.001404</td>\n",
              "      <td>0.000641</td>\n",
              "      <td>00:54</td>\n",
              "    </tr>\n",
              "    <tr>\n",
              "      <td>54</td>\n",
              "      <td>0.001366</td>\n",
              "      <td>0.000681</td>\n",
              "      <td>00:57</td>\n",
              "    </tr>\n",
              "    <tr>\n",
              "      <td>55</td>\n",
              "      <td>0.001370</td>\n",
              "      <td>0.000689</td>\n",
              "      <td>00:52</td>\n",
              "    </tr>\n",
              "    <tr>\n",
              "      <td>56</td>\n",
              "      <td>0.001338</td>\n",
              "      <td>0.000597</td>\n",
              "      <td>00:52</td>\n",
              "    </tr>\n",
              "    <tr>\n",
              "      <td>57</td>\n",
              "      <td>0.001304</td>\n",
              "      <td>0.000581</td>\n",
              "      <td>00:52</td>\n",
              "    </tr>\n",
              "    <tr>\n",
              "      <td>58</td>\n",
              "      <td>0.001339</td>\n",
              "      <td>0.000685</td>\n",
              "      <td>00:52</td>\n",
              "    </tr>\n",
              "    <tr>\n",
              "      <td>59</td>\n",
              "      <td>0.001281</td>\n",
              "      <td>0.000632</td>\n",
              "      <td>00:52</td>\n",
              "    </tr>\n",
              "    <tr>\n",
              "      <td>60</td>\n",
              "      <td>0.001310</td>\n",
              "      <td>0.000655</td>\n",
              "      <td>00:52</td>\n",
              "    </tr>\n",
              "    <tr>\n",
              "      <td>61</td>\n",
              "      <td>0.001280</td>\n",
              "      <td>0.000598</td>\n",
              "      <td>00:52</td>\n",
              "    </tr>\n",
              "    <tr>\n",
              "      <td>62</td>\n",
              "      <td>0.001262</td>\n",
              "      <td>0.000621</td>\n",
              "      <td>00:52</td>\n",
              "    </tr>\n",
              "    <tr>\n",
              "      <td>63</td>\n",
              "      <td>0.001219</td>\n",
              "      <td>0.000580</td>\n",
              "      <td>00:52</td>\n",
              "    </tr>\n",
              "    <tr>\n",
              "      <td>64</td>\n",
              "      <td>0.001226</td>\n",
              "      <td>0.000666</td>\n",
              "      <td>00:51</td>\n",
              "    </tr>\n",
              "    <tr>\n",
              "      <td>65</td>\n",
              "      <td>0.001220</td>\n",
              "      <td>0.000599</td>\n",
              "      <td>00:52</td>\n",
              "    </tr>\n",
              "    <tr>\n",
              "      <td>66</td>\n",
              "      <td>0.001243</td>\n",
              "      <td>0.000705</td>\n",
              "      <td>00:51</td>\n",
              "    </tr>\n",
              "    <tr>\n",
              "      <td>67</td>\n",
              "      <td>0.001212</td>\n",
              "      <td>0.000563</td>\n",
              "      <td>00:51</td>\n",
              "    </tr>\n",
              "    <tr>\n",
              "      <td>68</td>\n",
              "      <td>0.001186</td>\n",
              "      <td>0.000547</td>\n",
              "      <td>00:52</td>\n",
              "    </tr>\n",
              "    <tr>\n",
              "      <td>69</td>\n",
              "      <td>0.001172</td>\n",
              "      <td>0.000557</td>\n",
              "      <td>00:52</td>\n",
              "    </tr>\n",
              "    <tr>\n",
              "      <td>70</td>\n",
              "      <td>0.001178</td>\n",
              "      <td>0.000601</td>\n",
              "      <td>00:52</td>\n",
              "    </tr>\n",
              "    <tr>\n",
              "      <td>71</td>\n",
              "      <td>0.001167</td>\n",
              "      <td>0.000619</td>\n",
              "      <td>00:52</td>\n",
              "    </tr>\n",
              "    <tr>\n",
              "      <td>72</td>\n",
              "      <td>0.001132</td>\n",
              "      <td>0.000574</td>\n",
              "      <td>00:52</td>\n",
              "    </tr>\n",
              "    <tr>\n",
              "      <td>73</td>\n",
              "      <td>0.001167</td>\n",
              "      <td>0.000551</td>\n",
              "      <td>00:52</td>\n",
              "    </tr>\n",
              "    <tr>\n",
              "      <td>74</td>\n",
              "      <td>0.001122</td>\n",
              "      <td>0.000603</td>\n",
              "      <td>00:53</td>\n",
              "    </tr>\n",
              "    <tr>\n",
              "      <td>75</td>\n",
              "      <td>0.001170</td>\n",
              "      <td>0.000660</td>\n",
              "      <td>00:52</td>\n",
              "    </tr>\n",
              "    <tr>\n",
              "      <td>76</td>\n",
              "      <td>0.001143</td>\n",
              "      <td>0.000554</td>\n",
              "      <td>00:52</td>\n",
              "    </tr>\n",
              "    <tr>\n",
              "      <td>77</td>\n",
              "      <td>0.001119</td>\n",
              "      <td>0.000557</td>\n",
              "      <td>00:51</td>\n",
              "    </tr>\n",
              "    <tr>\n",
              "      <td>78</td>\n",
              "      <td>0.001112</td>\n",
              "      <td>0.000578</td>\n",
              "      <td>00:51</td>\n",
              "    </tr>\n",
              "    <tr>\n",
              "      <td>79</td>\n",
              "      <td>0.001094</td>\n",
              "      <td>0.000556</td>\n",
              "      <td>00:51</td>\n",
              "    </tr>\n",
              "    <tr>\n",
              "      <td>80</td>\n",
              "      <td>0.001107</td>\n",
              "      <td>0.000574</td>\n",
              "      <td>00:52</td>\n",
              "    </tr>\n",
              "    <tr>\n",
              "      <td>81</td>\n",
              "      <td>0.001106</td>\n",
              "      <td>0.000550</td>\n",
              "      <td>00:51</td>\n",
              "    </tr>\n",
              "    <tr>\n",
              "      <td>82</td>\n",
              "      <td>0.001121</td>\n",
              "      <td>0.000557</td>\n",
              "      <td>00:51</td>\n",
              "    </tr>\n",
              "    <tr>\n",
              "      <td>83</td>\n",
              "      <td>0.001099</td>\n",
              "      <td>0.000588</td>\n",
              "      <td>00:52</td>\n",
              "    </tr>\n",
              "    <tr>\n",
              "      <td>84</td>\n",
              "      <td>0.001121</td>\n",
              "      <td>0.000584</td>\n",
              "      <td>00:52</td>\n",
              "    </tr>\n",
              "    <tr>\n",
              "      <td>85</td>\n",
              "      <td>0.001067</td>\n",
              "      <td>0.000567</td>\n",
              "      <td>00:52</td>\n",
              "    </tr>\n",
              "    <tr>\n",
              "      <td>86</td>\n",
              "      <td>0.001099</td>\n",
              "      <td>0.000582</td>\n",
              "      <td>00:51</td>\n",
              "    </tr>\n",
              "    <tr>\n",
              "      <td>87</td>\n",
              "      <td>0.001094</td>\n",
              "      <td>0.000565</td>\n",
              "      <td>00:51</td>\n",
              "    </tr>\n",
              "    <tr>\n",
              "      <td>88</td>\n",
              "      <td>0.001080</td>\n",
              "      <td>0.000553</td>\n",
              "      <td>00:51</td>\n",
              "    </tr>\n",
              "    <tr>\n",
              "      <td>89</td>\n",
              "      <td>0.001056</td>\n",
              "      <td>0.000547</td>\n",
              "      <td>00:51</td>\n",
              "    </tr>\n",
              "    <tr>\n",
              "      <td>90</td>\n",
              "      <td>0.001072</td>\n",
              "      <td>0.000552</td>\n",
              "      <td>00:51</td>\n",
              "    </tr>\n",
              "    <tr>\n",
              "      <td>91</td>\n",
              "      <td>0.001062</td>\n",
              "      <td>0.000607</td>\n",
              "      <td>00:51</td>\n",
              "    </tr>\n",
              "    <tr>\n",
              "      <td>92</td>\n",
              "      <td>0.001027</td>\n",
              "      <td>0.000562</td>\n",
              "      <td>00:51</td>\n",
              "    </tr>\n",
              "    <tr>\n",
              "      <td>93</td>\n",
              "      <td>0.001063</td>\n",
              "      <td>0.000565</td>\n",
              "      <td>00:51</td>\n",
              "    </tr>\n",
              "    <tr>\n",
              "      <td>94</td>\n",
              "      <td>0.001057</td>\n",
              "      <td>0.000559</td>\n",
              "      <td>00:51</td>\n",
              "    </tr>\n",
              "    <tr>\n",
              "      <td>95</td>\n",
              "      <td>0.001049</td>\n",
              "      <td>0.000554</td>\n",
              "      <td>00:51</td>\n",
              "    </tr>\n",
              "    <tr>\n",
              "      <td>96</td>\n",
              "      <td>0.001051</td>\n",
              "      <td>0.000558</td>\n",
              "      <td>00:51</td>\n",
              "    </tr>\n",
              "    <tr>\n",
              "      <td>97</td>\n",
              "      <td>0.001085</td>\n",
              "      <td>0.000569</td>\n",
              "      <td>00:51</td>\n",
              "    </tr>\n",
              "    <tr>\n",
              "      <td>98</td>\n",
              "      <td>0.001080</td>\n",
              "      <td>0.000554</td>\n",
              "      <td>00:51</td>\n",
              "    </tr>\n",
              "    <tr>\n",
              "      <td>99</td>\n",
              "      <td>0.001027</td>\n",
              "      <td>0.000547</td>\n",
              "      <td>00:51</td>\n",
              "    </tr>\n",
              "  </tbody>\n",
              "</table>"
            ]
          },
          "metadata": {}
        }
      ]
    },
    {
      "cell_type": "code",
      "source": [
        "learner.export(PROJECT_DIR + 'models/model.pkl')"
      ],
      "metadata": {
        "id": "lSXw73XnWLkc"
      },
      "execution_count": 40,
      "outputs": []
    },
    {
      "cell_type": "code",
      "source": [
        "learner.save(PROJECT_DIR + 'models/model_save')"
      ],
      "metadata": {
        "colab": {
          "base_uri": "https://localhost:8080/"
        },
        "id": "kgPnBdigB5U7",
        "outputId": "c3d1299d-1ef5-479f-80d6-cf7136470832"
      },
      "execution_count": 44,
      "outputs": [
        {
          "output_type": "execute_result",
          "data": {
            "text/plain": [
              "Path('/content/drive/Shareddrives/DS 303 Course Project/models/model_save.pth')"
            ]
          },
          "metadata": {},
          "execution_count": 44
        }
      ]
    },
    {
      "cell_type": "code",
      "source": [
        "learner.recorder.plot_loss()"
      ],
      "metadata": {
        "colab": {
          "base_uri": "https://localhost:8080/",
          "height": 265
        },
        "id": "86beqawcCET7",
        "outputId": "3759a724-19fb-4395-940c-6a5f3e8fa13d"
      },
      "execution_count": 43,
      "outputs": [
        {
          "output_type": "display_data",
          "data": {
            "text/plain": [
              "<Figure size 432x288 with 1 Axes>"
            ],
            "image/png": "[encoded data removed]"
          },
          "metadata": {
            "needs_background": "light"
          }
        }
      ]
    },
    {
      "cell_type": "code",
      "source": [
        ""
      ],
      "metadata": {
        "id": "wwBoFHQrMaWz"
      },
      "execution_count": null,
      "outputs": []
    }
  ]
}